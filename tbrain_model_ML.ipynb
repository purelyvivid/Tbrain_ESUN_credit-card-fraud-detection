{
 "cells": [
  {
   "cell_type": "code",
   "execution_count": 1,
   "metadata": {},
   "outputs": [],
   "source": [
    "import pandas as pd\n",
    "import numpy as np"
   ]
  },
  {
   "cell_type": "markdown",
   "metadata": {},
   "source": [
    "# Load Data and Overview"
   ]
  },
  {
   "cell_type": "code",
   "execution_count": 2,
   "metadata": {},
   "outputs": [
    {
     "data": {
      "text/plain": [
       "((1521787, 369), (421665, 369), (1065250, 369), (456537, 369))"
      ]
     },
     "execution_count": 2,
     "metadata": {},
     "output_type": "execute_result"
    }
   ],
   "source": [
    "X_col_names = np.load('data/X_col_names.npy' )\n",
    "X_train = np.load('data/X_train.npy' )\n",
    "X_test = np.load('data/X_test.npy' )\n",
    "y_train = np.load('data/y_train.npy' )\n",
    "X_train_ = np.load('data/X_train_.npy' )\n",
    "X_val = np.load('data/X_val.npy' )\n",
    "y_train_ = np.load('data/y_train_.npy' )\n",
    "y_val = np.load('data/y_val.npy' )\n",
    "#print(X_col_names)\n",
    "X_train.shape, X_test.shape, X_train_.shape, X_val.shape"
   ]
  },
  {
   "cell_type": "code",
   "execution_count": 3,
   "metadata": {},
   "outputs": [
    {
     "data": {
      "text/plain": [
       "array([1143723,  724559, 1312059, 1670608, 1770025])"
      ]
     },
     "execution_count": 3,
     "metadata": {},
     "output_type": "execute_result"
    }
   ],
   "source": [
    "key_train = np.load('data/key_train.npy' )\n",
    "key_test = np.load('data/key_test.npy' )\n",
    "key_train_ = np.load('data/key_train_.npy' )\n",
    "key_val = np.load('data/key_val.npy' )\n",
    "key_val[:5]"
   ]
  },
  {
   "cell_type": "markdown",
   "metadata": {},
   "source": [
    "# Model - Utils"
   ]
  },
  {
   "cell_type": "code",
   "execution_count": 4,
   "metadata": {},
   "outputs": [],
   "source": [
    "from sklearn.metrics import f1_score\n",
    "from sklearn.metrics import precision_score, recall_score\n",
    "from  datetime import datetime\n",
    "import pickle\n",
    "\n",
    "def score_n_save_out(model, X, y,  \n",
    "                     model_name = \"\",\n",
    "                     postfix=\"0\", \n",
    "                     print_score=True,\n",
    "                     save_model=True, \n",
    "                     save_csv=False):\n",
    "    \n",
    "    y_pred = model.predict(X)\n",
    "    y_pred = (y_pred>0.5).astype(int).flatten()\n",
    "    y = y.astype(int).flatten()\n",
    "    print( \"X_val y_pred==1 ratio : {:.2f}%\".format( sum(y_pred == 1)/len(y_pred)*100 ) )\n",
    "    \n",
    "    if print_score:\n",
    "        f1, p, r = ( f1_score(y, y_pred), precision_score(y, y_pred),  recall_score(y, y_pred))\n",
    "        print(\"model: {}, F1-score: {:.4f}, precision: {:.4f}, recall: {:.4f}\".format(model_name, f1, p, r))\n",
    "        \n",
    "    t_str = datetime.strftime(datetime.now(), \"%Y%m%d%H%M%S\")\n",
    "    \n",
    "    if save_model: \n",
    "        pth = f'model/{model_name}_model_{postfix}_{t_str}.h5'\n",
    "        pickle.dump(model, open(pth, 'wb'))\n",
    "        print(f'save model: {pth}')\n",
    "        \n",
    "    if save_csv:\n",
    "        y_pred = model.predict(X_test)\n",
    "        y_pred = (y_pred>0.5).astype(int).flatten()\n",
    "        print( \"X_test y_pred==1 ratio : {:.2f}%\".format( sum(y_pred == 1)/len(y_pred)*100 ) )\n",
    "        df_op = pd.DataFrame({'txkey':key_test, 'fraud_ind': y_pred})\n",
    "        pth = f'submit/{model_name}_submission_{postfix}_{t_str}.csv'\n",
    "        df_op.to_csv(pth, index=False) \n",
    "        print(f'save scv: {pth}')\n",
    "        \n",
    "    return "
   ]
  },
  {
   "cell_type": "markdown",
   "metadata": {},
   "source": [
    "# Model - Machine Learning"
   ]
  },
  {
   "cell_type": "code",
   "execution_count": 5,
   "metadata": {},
   "outputs": [
    {
     "name": "stderr",
     "output_type": "stream",
     "text": [
      "/opt/conda/lib/python3.6/site-packages/sklearn/ensemble/weight_boosting.py:29: DeprecationWarning: numpy.core.umath_tests is an internal NumPy module and should not be imported. It will be removed in a future NumPy release.\n",
      "  from numpy.core.umath_tests import inner1d\n"
     ]
    }
   ],
   "source": [
    "from sklearn.ensemble import \\\n",
    "ExtraTreesClassifier, GradientBoostingClassifier, \\\n",
    "RandomForestClassifier, AdaBoostClassifier"
   ]
  },
  {
   "cell_type": "code",
   "execution_count": 6,
   "metadata": {},
   "outputs": [],
   "source": [
    "model_classes = [\n",
    "                 ExtraTreesClassifier(n_estimators=100, class_weight='balanced'), \n",
    "                 ExtraTreesClassifier(n_estimators=100, class_weight={0:0.005, 1:0.995}),\n",
    "                 ExtraTreesClassifier(n_estimators=1000, class_weight='balanced'), \n",
    "                 ExtraTreesClassifier(n_estimators=1000, class_weight={0:0.005, 1:0.995}), \n",
    "                ]\n",
    "model_names = [\n",
    "               \"ExtraTrees_n=100\",  \n",
    "               \"ExtraTrees_n=100_cw=0.005\", \n",
    "               \"ExtraTrees_n=1000\",  \n",
    "               \"ExtraTrees_n=1000_cw=0.005\", \n",
    "              ]"
   ]
  },
  {
   "cell_type": "code",
   "execution_count": null,
   "metadata": {},
   "outputs": [
    {
     "name": "stdout",
     "output_type": "stream",
     "text": [
      "****************************************************************\n",
      "X_val y_pred==1 ratio : 0.94%\n",
      "model: ExtraTrees_n=100, F1-score: 0.7210, precision: 0.8762, recall: 0.6125\n",
      "save model: model/ExtraTrees_n=100_model_0_20190924134330.h5\n",
      "X_test y_pred==1 ratio : 0.95%\n",
      "save scv: submit/ExtraTrees_n=100_submission_0_20190924134330.csv\n",
      "time cost: 1042.89 sec\n",
      "****************************************************************\n",
      "X_val y_pred==1 ratio : 0.94%\n",
      "model: ExtraTrees_n=100_cw=0.005, F1-score: 0.7183, precision: 0.8742, recall: 0.6096\n",
      "save model: model/ExtraTrees_n=100_cw=0.005_model_0_20190924140333.h5\n",
      "X_test y_pred==1 ratio : 0.94%\n",
      "save scv: submit/ExtraTrees_n=100_cw=0.005_submission_0_20190924140333.csv\n",
      "time cost: 1209.81 sec\n",
      "****************************************************************\n",
      "X_val y_pred==1 ratio : 0.94%\n",
      "model: ExtraTrees_n=1000, F1-score: 0.7231, precision: 0.8746, recall: 0.6163\n",
      "save model: model/ExtraTrees_n=1000_model_0_20190924170415.h5\n",
      "X_test y_pred==1 ratio : 0.94%\n",
      "save scv: submit/ExtraTrees_n=1000_submission_0_20190924170415.csv\n",
      "time cost: 10998.82 sec\n",
      "****************************************************************\n"
     ]
    }
   ],
   "source": [
    "import time\n",
    "models = []\n",
    "for model, model_name in zip(model_classes, model_names):\n",
    "    print('*'*64)\n",
    "    st = time.time()\n",
    "    model.fit(X_train_, y_train_)\n",
    "    models.append(model)\n",
    "    score_n_save_out(model, X_val, y_val, model_name=model_name, save_csv=True, )\n",
    "    print(f\"time cost: {round((time.time()-st),2)} sec\")\n",
    "    "
   ]
  },
  {
   "cell_type": "code",
   "execution_count": null,
   "metadata": {},
   "outputs": [],
   "source": []
  }
 ],
 "metadata": {
  "kernelspec": {
   "display_name": "Python 3",
   "language": "python",
   "name": "python3"
  },
  "language_info": {
   "codemirror_mode": {
    "name": "ipython",
    "version": 3
   },
   "file_extension": ".py",
   "mimetype": "text/x-python",
   "name": "python",
   "nbconvert_exporter": "python",
   "pygments_lexer": "ipython3",
   "version": "3.6.6"
  }
 },
 "nbformat": 4,
 "nbformat_minor": 2
}

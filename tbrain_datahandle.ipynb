{
 "cells": [
  {
   "cell_type": "code",
   "execution_count": 1,
   "metadata": {},
   "outputs": [],
   "source": [
    "import pandas as pd\n",
    "import numpy as np"
   ]
  },
  {
   "cell_type": "code",
   "execution_count": null,
   "metadata": {},
   "outputs": [],
   "source": [
    "! mkdir data model submit"
   ]
  },
  {
   "cell_type": "markdown",
   "metadata": {},
   "source": [
    "# Load Data and Overview"
   ]
  },
  {
   "cell_type": "code",
   "execution_count": 2,
   "metadata": {},
   "outputs": [
    {
     "data": {
      "text/plain": [
       "(1521787, 22)"
      ]
     },
     "execution_count": 2,
     "metadata": {},
     "output_type": "execute_result"
    }
   ],
   "source": [
    "df = pd.read_csv('train.csv').set_index('txkey')\n",
    "df.shape"
   ]
  },
  {
   "cell_type": "code",
   "execution_count": 3,
   "metadata": {},
   "outputs": [],
   "source": [
    "y_train = df['fraud_ind']\n",
    "del df['fraud_ind']"
   ]
  },
  {
   "cell_type": "code",
   "execution_count": 4,
   "metadata": {},
   "outputs": [
    {
     "data": {
      "text/plain": [
       "(421665, 21)"
      ]
     },
     "execution_count": 4,
     "metadata": {},
     "output_type": "execute_result"
    }
   ],
   "source": [
    "df_test = pd.read_csv('test.csv').set_index('txkey')\n",
    "df_test.shape"
   ]
  },
  {
   "cell_type": "code",
   "execution_count": 5,
   "metadata": {},
   "outputs": [
    {
     "data": {
      "text/plain": [
       "(1943452, 21)"
      ]
     },
     "execution_count": 5,
     "metadata": {},
     "output_type": "execute_result"
    }
   ],
   "source": [
    "df = pd.concat((df, df_test), 0)\n",
    "df.shape"
   ]
  },
  {
   "cell_type": "code",
   "execution_count": 6,
   "metadata": {},
   "outputs": [
    {
     "data": {
      "text/plain": [
       "Index(['acqic', 'bacno', 'cano', 'conam', 'contp', 'csmcu', 'ecfg', 'etymd',\n",
       "       'flbmk', 'flg_3dsmk', 'hcefg', 'insfg', 'iterm', 'locdt', 'loctm',\n",
       "       'mcc', 'mchno', 'ovrlt', 'scity', 'stocn', 'stscd'],\n",
       "      dtype='object')"
      ]
     },
     "execution_count": 6,
     "metadata": {},
     "output_type": "execute_result"
    }
   ],
   "source": [
    "df.keys()"
   ]
  },
  {
   "cell_type": "code",
   "execution_count": 7,
   "metadata": {},
   "outputs": [
    {
     "name": "stdout",
     "output_type": "stream",
     "text": [
      "acqic: dtype=int64, n_na=0\n",
      "       max=6884, min=0, mean=6004.54, std=1505.74, diversity=0.35%\n",
      "bacno: dtype=int64, n_na=0\n",
      "       max=163886, min=0, mean=82087.41, std=47323.48, diversity=8.40%\n",
      "cano: dtype=int64, n_na=0\n",
      "       max=213575, min=0, mean=109045.28, std=61103.56, diversity=10.93%\n",
      "conam: dtype=float64, n_na=0\n",
      "       max=7208.77, min=0.0, mean=651.62, std=403.22, diversity=4.44%\n",
      "contp: uni=[5 3 6 2 4 0 1]\n",
      "csmcu: uni=[ 0 62 74 61 13 67 60 26 49 10 71 56 20 38 22  4 47 54 75 32 66 29 28 14\n",
      " 50 30 31 45 24 40 35 59  3 48 63 52 41 23 17 16 73 51 53 44 18 12 15  5\n",
      " 70 21 39 27 42 11 72  6 25  7 43  2 19 37  1 64 57 36 68 55  9 46 34 69\n",
      "  8 33 65 58]\n",
      "ecfg: uni=['N' 'Y']\n",
      "etymd: uni=[ 0  2  5  4  8  1  9  6  3  7 10]\n",
      "flbmk: uni=['N' 'Y' nan]\n",
      "flg_3dsmk: uni=['N' 'Y' nan]\n",
      "hcefg: uni=[5 0 3 1 2 7 8 9 6 4]\n",
      "insfg: uni=['N' 'Y']\n",
      "iterm: uni=[0 1 2 8 3 4 7 6 5]\n",
      "locdt: uni=[ 33   9   6   5   7  10   8  11  13  14  22  21  25  24  15  12  19  28\n",
      "  18  17  16  23  31  26   2  30   4  20  27  29   1   3  34  66  32  67\n",
      "  70  69  65  35  39  43  38  45  48  54  50  68  36  37  61  42  49  44\n",
      "  58  62  60  63  47  40  41  46  76  51  74  75  52  56  85  53  89  86\n",
      "  73  55  57  59  79  78  72  71  64  80  81  84  77  82  87  88  83  90\n",
      " 102 100  95  94 115 108 112 103 107 119 111 113 116  91 114  96 110  97\n",
      " 118 117  92 109  93 105 120 104  99  98 106 101]\n",
      "loctm: dtype=float64, n_na=0\n",
      "       max=235959.0, min=0.0, mean=146006.05, std=52279.67, diversity=4.40%\n",
      "mcc: dtype=int64, n_na=0\n",
      "       max=459, min=0, mean=297.91, std=78.41, diversity=0.02%\n",
      "mchno: dtype=int64, n_na=0\n",
      "       max=103307, min=0, mean=55892.3, std=30829.44, diversity=5.29%\n",
      "ovrlt: uni=['N' 'Y']\n",
      "scity: dtype=int64, n_na=0\n",
      "       max=6671, min=0, mean=4754.4, std=1982.35, diversity=0.34%\n",
      "stocn: uni=[102  44  14  46  38  93 104  20  75  27  52  16  61  36  50   2  41  42\n",
      "  78  49  10   6  98  17  87  32  81  86  73  92  85  89  55   1  53 101\n",
      "  56  68  62  47   0  76  45  72  94  25  31   4  39  48 106  91  83  34\n",
      "  95  40  26   5  43  90  54 107  67  30  28  69  70  22  60  57  37   8\n",
      "  96  35  74  63  80  51   9 105  13  11  64  59  82  15  79  65  33  77\n",
      "   3  84  99  19   7  29  24  18 100  97  71  12  88  21  23 103 108  58\n",
      "  66]\n",
      "stscd: uni=[0 2 4 1 3]\n"
     ]
    }
   ],
   "source": [
    "# 欄位類別判定\n",
    "col_names_cont = [] # 數值型資料\n",
    "col_names_disc = [] # 類別型資料\n",
    "col_has_na = [] # 待補NA資料\n",
    "for c in df.keys():\n",
    "    uni = df[c].unique()\n",
    "    n_na = pd.isna(df[c]).sum() # NA 數量\n",
    "    if n_na > 0:\n",
    "        col_has_na.append(c)       \n",
    "    if len(uni) < 200 :\n",
    "        print(f\"{c}: uni={uni}\")\n",
    "        col_names_disc.append(c)\n",
    "    else:\n",
    "        info = [ df[c].max(), df[c].min(), df[c].mean(), df[c].std()]\n",
    "        info = [ x.round(2) for x in info ]\n",
    "        offset = 1 if n_na else 0\n",
    "        diversity = (len(uni)-offset)/(len(df)-n_na)\n",
    "        print(f\"{c}: dtype={df[c].dtype}, n_na={n_na}\")\n",
    "        print(\"       max={}, min={}, mean={}, std={}, diversity={:.2f}%\".format(*info, diversity*100 ) )\n",
    "        if diversity == 1.0:\n",
    "            print(f\"       Delete col [{c}] due to diversity is 100% \")\n",
    "        else:\n",
    "            col_names_cont.append(c)"
   ]
  },
  {
   "cell_type": "markdown",
   "metadata": {},
   "source": [
    "- 看起來數值型資料都沒有缺失值(n_na==0)"
   ]
  },
  {
   "cell_type": "code",
   "execution_count": 8,
   "metadata": {},
   "outputs": [
    {
     "data": {
      "text/plain": [
       "['flbmk', 'flg_3dsmk']"
      ]
     },
     "execution_count": 8,
     "metadata": {},
     "output_type": "execute_result"
    }
   ],
   "source": [
    "col_has_na"
   ]
  },
  {
   "cell_type": "code",
   "execution_count": 9,
   "metadata": {},
   "outputs": [],
   "source": [
    "# 處理缺失值\n",
    "df = df.fillna(\"NA\")"
   ]
  },
  {
   "cell_type": "markdown",
   "metadata": {},
   "source": [
    "# Data Preprocessing"
   ]
  },
  {
   "cell_type": "markdown",
   "metadata": {},
   "source": [
    "## 數值型"
   ]
  },
  {
   "cell_type": "code",
   "execution_count": 10,
   "metadata": {},
   "outputs": [
    {
     "data": {
      "text/html": [
       "<div>\n",
       "<style scoped>\n",
       "    .dataframe tbody tr th:only-of-type {\n",
       "        vertical-align: middle;\n",
       "    }\n",
       "\n",
       "    .dataframe tbody tr th {\n",
       "        vertical-align: top;\n",
       "    }\n",
       "\n",
       "    .dataframe thead th {\n",
       "        text-align: right;\n",
       "    }\n",
       "</style>\n",
       "<table border=\"1\" class=\"dataframe\">\n",
       "  <thead>\n",
       "    <tr style=\"text-align: right;\">\n",
       "      <th></th>\n",
       "      <th>acqic</th>\n",
       "      <th>bacno</th>\n",
       "      <th>cano</th>\n",
       "      <th>conam</th>\n",
       "      <th>loctm</th>\n",
       "      <th>mcc</th>\n",
       "      <th>mchno</th>\n",
       "      <th>scity</th>\n",
       "    </tr>\n",
       "    <tr>\n",
       "      <th>txkey</th>\n",
       "      <th></th>\n",
       "      <th></th>\n",
       "      <th></th>\n",
       "      <th></th>\n",
       "      <th></th>\n",
       "      <th></th>\n",
       "      <th></th>\n",
       "      <th></th>\n",
       "    </tr>\n",
       "  </thead>\n",
       "  <tbody>\n",
       "    <tr>\n",
       "      <th>516056</th>\n",
       "      <td>6881</td>\n",
       "      <td>113261</td>\n",
       "      <td>38038</td>\n",
       "      <td>513.80</td>\n",
       "      <td>172652.0</td>\n",
       "      <td>457</td>\n",
       "      <td>59333</td>\n",
       "      <td>0</td>\n",
       "    </tr>\n",
       "    <tr>\n",
       "      <th>4376</th>\n",
       "      <td>0</td>\n",
       "      <td>134508</td>\n",
       "      <td>45725</td>\n",
       "      <td>465.62</td>\n",
       "      <td>105114.0</td>\n",
       "      <td>451</td>\n",
       "      <td>0</td>\n",
       "      <td>5817</td>\n",
       "    </tr>\n",
       "    <tr>\n",
       "      <th>483434</th>\n",
       "      <td>6881</td>\n",
       "      <td>15408</td>\n",
       "      <td>188328</td>\n",
       "      <td>513.80</td>\n",
       "      <td>152458.0</td>\n",
       "      <td>457</td>\n",
       "      <td>59333</td>\n",
       "      <td>0</td>\n",
       "    </tr>\n",
       "    <tr>\n",
       "      <th>1407164</th>\n",
       "      <td>6716</td>\n",
       "      <td>157159</td>\n",
       "      <td>29967</td>\n",
       "      <td>1016.11</td>\n",
       "      <td>172946.0</td>\n",
       "      <td>247</td>\n",
       "      <td>50436</td>\n",
       "      <td>3281</td>\n",
       "    </tr>\n",
       "    <tr>\n",
       "      <th>1051004</th>\n",
       "      <td>5975</td>\n",
       "      <td>105985</td>\n",
       "      <td>81305</td>\n",
       "      <td>713.66</td>\n",
       "      <td>182129.0</td>\n",
       "      <td>263</td>\n",
       "      <td>93775</td>\n",
       "      <td>5817</td>\n",
       "    </tr>\n",
       "  </tbody>\n",
       "</table>\n",
       "</div>"
      ],
      "text/plain": [
       "         acqic   bacno    cano    conam     loctm  mcc  mchno  scity\n",
       "txkey                                                               \n",
       "516056    6881  113261   38038   513.80  172652.0  457  59333      0\n",
       "4376         0  134508   45725   465.62  105114.0  451      0   5817\n",
       "483434    6881   15408  188328   513.80  152458.0  457  59333      0\n",
       "1407164   6716  157159   29967  1016.11  172946.0  247  50436   3281\n",
       "1051004   5975  105985   81305   713.66  182129.0  263  93775   5817"
      ]
     },
     "execution_count": 10,
     "metadata": {},
     "output_type": "execute_result"
    }
   ],
   "source": [
    "df_cont = df[col_names_cont].copy()\n",
    "df_cont.head()"
   ]
  },
  {
   "cell_type": "code",
   "execution_count": 11,
   "metadata": {},
   "outputs": [
    {
     "data": {
      "text/plain": [
       "((1943452, 8), numpy.ndarray)"
      ]
     },
     "execution_count": 11,
     "metadata": {},
     "output_type": "execute_result"
    }
   ],
   "source": [
    "from sklearn.preprocessing import StandardScaler\n",
    "scaler = StandardScaler()\n",
    "X_cont = scaler.fit_transform(df_cont)\n",
    "X_cont.shape, type(X_cont)"
   ]
  },
  {
   "cell_type": "code",
   "execution_count": 12,
   "metadata": {},
   "outputs": [
    {
     "data": {
      "text/html": [
       "<div>\n",
       "<style scoped>\n",
       "    .dataframe tbody tr th:only-of-type {\n",
       "        vertical-align: middle;\n",
       "    }\n",
       "\n",
       "    .dataframe tbody tr th {\n",
       "        vertical-align: top;\n",
       "    }\n",
       "\n",
       "    .dataframe thead th {\n",
       "        text-align: right;\n",
       "    }\n",
       "</style>\n",
       "<table border=\"1\" class=\"dataframe\">\n",
       "  <thead>\n",
       "    <tr style=\"text-align: right;\">\n",
       "      <th></th>\n",
       "      <th>acqic</th>\n",
       "      <th>bacno</th>\n",
       "      <th>cano</th>\n",
       "      <th>conam</th>\n",
       "      <th>loctm</th>\n",
       "      <th>mcc</th>\n",
       "      <th>mchno</th>\n",
       "      <th>scity</th>\n",
       "    </tr>\n",
       "    <tr>\n",
       "      <th>txkey</th>\n",
       "      <th></th>\n",
       "      <th></th>\n",
       "      <th></th>\n",
       "      <th></th>\n",
       "      <th></th>\n",
       "      <th></th>\n",
       "      <th></th>\n",
       "      <th></th>\n",
       "    </tr>\n",
       "  </thead>\n",
       "  <tbody>\n",
       "    <tr>\n",
       "      <th>516056</th>\n",
       "      <td>0.582079</td>\n",
       "      <td>0.658734</td>\n",
       "      <td>-1.162081</td>\n",
       "      <td>-0.341794</td>\n",
       "      <td>0.509681</td>\n",
       "      <td>2.028863</td>\n",
       "      <td>0.111604</td>\n",
       "      <td>-2.398364</td>\n",
       "    </tr>\n",
       "    <tr>\n",
       "      <th>4376</th>\n",
       "      <td>-3.987783</td>\n",
       "      <td>1.107708</td>\n",
       "      <td>-1.036278</td>\n",
       "      <td>-0.461282</td>\n",
       "      <td>-0.782179</td>\n",
       "      <td>1.952344</td>\n",
       "      <td>-1.812952</td>\n",
       "      <td>0.536031</td>\n",
       "    </tr>\n",
       "    <tr>\n",
       "      <th>483434</th>\n",
       "      <td>0.582079</td>\n",
       "      <td>-1.409013</td>\n",
       "      <td>1.297514</td>\n",
       "      <td>-0.341794</td>\n",
       "      <td>0.123412</td>\n",
       "      <td>2.028863</td>\n",
       "      <td>0.111604</td>\n",
       "      <td>-2.398364</td>\n",
       "    </tr>\n",
       "    <tr>\n",
       "      <th>1407164</th>\n",
       "      <td>0.472498</td>\n",
       "      <td>1.586350</td>\n",
       "      <td>-1.294169</td>\n",
       "      <td>0.903959</td>\n",
       "      <td>0.515305</td>\n",
       "      <td>-0.649316</td>\n",
       "      <td>-0.176983</td>\n",
       "      <td>-0.743258</td>\n",
       "    </tr>\n",
       "    <tr>\n",
       "      <th>1051004</th>\n",
       "      <td>-0.019621</td>\n",
       "      <td>0.504984</td>\n",
       "      <td>-0.453988</td>\n",
       "      <td>0.153869</td>\n",
       "      <td>0.690956</td>\n",
       "      <td>-0.445264</td>\n",
       "      <td>1.228783</td>\n",
       "      <td>0.536031</td>\n",
       "    </tr>\n",
       "  </tbody>\n",
       "</table>\n",
       "</div>"
      ],
      "text/plain": [
       "            acqic     bacno      cano     conam     loctm       mcc     mchno  \\\n",
       "txkey                                                                           \n",
       "516056   0.582079  0.658734 -1.162081 -0.341794  0.509681  2.028863  0.111604   \n",
       "4376    -3.987783  1.107708 -1.036278 -0.461282 -0.782179  1.952344 -1.812952   \n",
       "483434   0.582079 -1.409013  1.297514 -0.341794  0.123412  2.028863  0.111604   \n",
       "1407164  0.472498  1.586350 -1.294169  0.903959  0.515305 -0.649316 -0.176983   \n",
       "1051004 -0.019621  0.504984 -0.453988  0.153869  0.690956 -0.445264  1.228783   \n",
       "\n",
       "            scity  \n",
       "txkey              \n",
       "516056  -2.398364  \n",
       "4376     0.536031  \n",
       "483434  -2.398364  \n",
       "1407164 -0.743258  \n",
       "1051004  0.536031  "
      ]
     },
     "execution_count": 12,
     "metadata": {},
     "output_type": "execute_result"
    }
   ],
   "source": [
    "df_cont = pd.DataFrame(data=X_cont, index=df.index, columns=col_names_cont)\n",
    "df_cont.head()"
   ]
  },
  {
   "cell_type": "markdown",
   "metadata": {},
   "source": [
    "## 類別型"
   ]
  },
  {
   "cell_type": "code",
   "execution_count": 13,
   "metadata": {},
   "outputs": [
    {
     "data": {
      "text/html": [
       "<div>\n",
       "<style scoped>\n",
       "    .dataframe tbody tr th:only-of-type {\n",
       "        vertical-align: middle;\n",
       "    }\n",
       "\n",
       "    .dataframe tbody tr th {\n",
       "        vertical-align: top;\n",
       "    }\n",
       "\n",
       "    .dataframe thead th {\n",
       "        text-align: right;\n",
       "    }\n",
       "</style>\n",
       "<table border=\"1\" class=\"dataframe\">\n",
       "  <thead>\n",
       "    <tr style=\"text-align: right;\">\n",
       "      <th></th>\n",
       "      <th>contp</th>\n",
       "      <th>csmcu</th>\n",
       "      <th>ecfg</th>\n",
       "      <th>etymd</th>\n",
       "      <th>flbmk</th>\n",
       "      <th>flg_3dsmk</th>\n",
       "      <th>hcefg</th>\n",
       "      <th>insfg</th>\n",
       "      <th>iterm</th>\n",
       "      <th>locdt</th>\n",
       "      <th>ovrlt</th>\n",
       "      <th>stocn</th>\n",
       "      <th>stscd</th>\n",
       "    </tr>\n",
       "    <tr>\n",
       "      <th>txkey</th>\n",
       "      <th></th>\n",
       "      <th></th>\n",
       "      <th></th>\n",
       "      <th></th>\n",
       "      <th></th>\n",
       "      <th></th>\n",
       "      <th></th>\n",
       "      <th></th>\n",
       "      <th></th>\n",
       "      <th></th>\n",
       "      <th></th>\n",
       "      <th></th>\n",
       "      <th></th>\n",
       "    </tr>\n",
       "  </thead>\n",
       "  <tbody>\n",
       "    <tr>\n",
       "      <th>516056</th>\n",
       "      <td>5</td>\n",
       "      <td>0</td>\n",
       "      <td>N</td>\n",
       "      <td>0</td>\n",
       "      <td>N</td>\n",
       "      <td>N</td>\n",
       "      <td>5</td>\n",
       "      <td>N</td>\n",
       "      <td>0</td>\n",
       "      <td>33</td>\n",
       "      <td>N</td>\n",
       "      <td>102</td>\n",
       "      <td>0</td>\n",
       "    </tr>\n",
       "    <tr>\n",
       "      <th>4376</th>\n",
       "      <td>5</td>\n",
       "      <td>0</td>\n",
       "      <td>N</td>\n",
       "      <td>2</td>\n",
       "      <td>N</td>\n",
       "      <td>N</td>\n",
       "      <td>0</td>\n",
       "      <td>N</td>\n",
       "      <td>0</td>\n",
       "      <td>9</td>\n",
       "      <td>N</td>\n",
       "      <td>102</td>\n",
       "      <td>0</td>\n",
       "    </tr>\n",
       "    <tr>\n",
       "      <th>483434</th>\n",
       "      <td>5</td>\n",
       "      <td>0</td>\n",
       "      <td>N</td>\n",
       "      <td>0</td>\n",
       "      <td>N</td>\n",
       "      <td>N</td>\n",
       "      <td>5</td>\n",
       "      <td>N</td>\n",
       "      <td>0</td>\n",
       "      <td>6</td>\n",
       "      <td>N</td>\n",
       "      <td>102</td>\n",
       "      <td>0</td>\n",
       "    </tr>\n",
       "    <tr>\n",
       "      <th>1407164</th>\n",
       "      <td>5</td>\n",
       "      <td>62</td>\n",
       "      <td>N</td>\n",
       "      <td>5</td>\n",
       "      <td>N</td>\n",
       "      <td>N</td>\n",
       "      <td>5</td>\n",
       "      <td>N</td>\n",
       "      <td>0</td>\n",
       "      <td>5</td>\n",
       "      <td>N</td>\n",
       "      <td>102</td>\n",
       "      <td>0</td>\n",
       "    </tr>\n",
       "    <tr>\n",
       "      <th>1051004</th>\n",
       "      <td>5</td>\n",
       "      <td>62</td>\n",
       "      <td>N</td>\n",
       "      <td>4</td>\n",
       "      <td>N</td>\n",
       "      <td>N</td>\n",
       "      <td>5</td>\n",
       "      <td>N</td>\n",
       "      <td>0</td>\n",
       "      <td>6</td>\n",
       "      <td>N</td>\n",
       "      <td>102</td>\n",
       "      <td>0</td>\n",
       "    </tr>\n",
       "  </tbody>\n",
       "</table>\n",
       "</div>"
      ],
      "text/plain": [
       "         contp  csmcu ecfg  etymd flbmk flg_3dsmk  hcefg insfg  iterm  locdt  \\\n",
       "txkey                                                                          \n",
       "516056       5      0    N      0     N         N      5     N      0     33   \n",
       "4376         5      0    N      2     N         N      0     N      0      9   \n",
       "483434       5      0    N      0     N         N      5     N      0      6   \n",
       "1407164      5     62    N      5     N         N      5     N      0      5   \n",
       "1051004      5     62    N      4     N         N      5     N      0      6   \n",
       "\n",
       "        ovrlt  stocn  stscd  \n",
       "txkey                        \n",
       "516056      N    102      0  \n",
       "4376        N    102      0  \n",
       "483434      N    102      0  \n",
       "1407164     N    102      0  \n",
       "1051004     N    102      0  "
      ]
     },
     "execution_count": 13,
     "metadata": {},
     "output_type": "execute_result"
    }
   ],
   "source": [
    "df_disc = df[col_names_disc].copy()\n",
    "df_disc.head()"
   ]
  },
  {
   "cell_type": "code",
   "execution_count": 14,
   "metadata": {},
   "outputs": [
    {
     "data": {
      "text/plain": [
       "(1943452, 13)"
      ]
     },
     "execution_count": 14,
     "metadata": {},
     "output_type": "execute_result"
    }
   ],
   "source": [
    "df_disc.shape"
   ]
  },
  {
   "cell_type": "code",
   "execution_count": 15,
   "metadata": {},
   "outputs": [
    {
     "data": {
      "text/html": [
       "<div>\n",
       "<style scoped>\n",
       "    .dataframe tbody tr th:only-of-type {\n",
       "        vertical-align: middle;\n",
       "    }\n",
       "\n",
       "    .dataframe tbody tr th {\n",
       "        vertical-align: top;\n",
       "    }\n",
       "\n",
       "    .dataframe thead th {\n",
       "        text-align: right;\n",
       "    }\n",
       "</style>\n",
       "<table border=\"1\" class=\"dataframe\">\n",
       "  <thead>\n",
       "    <tr style=\"text-align: right;\">\n",
       "      <th></th>\n",
       "      <th>contp</th>\n",
       "      <th>csmcu</th>\n",
       "      <th>ecfg</th>\n",
       "      <th>etymd</th>\n",
       "      <th>flbmk</th>\n",
       "      <th>flg_3dsmk</th>\n",
       "      <th>hcefg</th>\n",
       "      <th>insfg</th>\n",
       "      <th>iterm</th>\n",
       "      <th>locdt</th>\n",
       "      <th>ovrlt</th>\n",
       "      <th>stocn</th>\n",
       "      <th>stscd</th>\n",
       "    </tr>\n",
       "    <tr>\n",
       "      <th>txkey</th>\n",
       "      <th></th>\n",
       "      <th></th>\n",
       "      <th></th>\n",
       "      <th></th>\n",
       "      <th></th>\n",
       "      <th></th>\n",
       "      <th></th>\n",
       "      <th></th>\n",
       "      <th></th>\n",
       "      <th></th>\n",
       "      <th></th>\n",
       "      <th></th>\n",
       "      <th></th>\n",
       "    </tr>\n",
       "  </thead>\n",
       "  <tbody>\n",
       "    <tr>\n",
       "      <th>516056</th>\n",
       "      <td>5</td>\n",
       "      <td>0</td>\n",
       "      <td>0</td>\n",
       "      <td>0</td>\n",
       "      <td>0</td>\n",
       "      <td>0</td>\n",
       "      <td>5</td>\n",
       "      <td>0</td>\n",
       "      <td>0</td>\n",
       "      <td>32</td>\n",
       "      <td>0</td>\n",
       "      <td>102</td>\n",
       "      <td>0</td>\n",
       "    </tr>\n",
       "    <tr>\n",
       "      <th>4376</th>\n",
       "      <td>5</td>\n",
       "      <td>0</td>\n",
       "      <td>0</td>\n",
       "      <td>2</td>\n",
       "      <td>0</td>\n",
       "      <td>0</td>\n",
       "      <td>0</td>\n",
       "      <td>0</td>\n",
       "      <td>0</td>\n",
       "      <td>8</td>\n",
       "      <td>0</td>\n",
       "      <td>102</td>\n",
       "      <td>0</td>\n",
       "    </tr>\n",
       "    <tr>\n",
       "      <th>483434</th>\n",
       "      <td>5</td>\n",
       "      <td>0</td>\n",
       "      <td>0</td>\n",
       "      <td>0</td>\n",
       "      <td>0</td>\n",
       "      <td>0</td>\n",
       "      <td>5</td>\n",
       "      <td>0</td>\n",
       "      <td>0</td>\n",
       "      <td>5</td>\n",
       "      <td>0</td>\n",
       "      <td>102</td>\n",
       "      <td>0</td>\n",
       "    </tr>\n",
       "    <tr>\n",
       "      <th>1407164</th>\n",
       "      <td>5</td>\n",
       "      <td>62</td>\n",
       "      <td>0</td>\n",
       "      <td>5</td>\n",
       "      <td>0</td>\n",
       "      <td>0</td>\n",
       "      <td>5</td>\n",
       "      <td>0</td>\n",
       "      <td>0</td>\n",
       "      <td>4</td>\n",
       "      <td>0</td>\n",
       "      <td>102</td>\n",
       "      <td>0</td>\n",
       "    </tr>\n",
       "    <tr>\n",
       "      <th>1051004</th>\n",
       "      <td>5</td>\n",
       "      <td>62</td>\n",
       "      <td>0</td>\n",
       "      <td>4</td>\n",
       "      <td>0</td>\n",
       "      <td>0</td>\n",
       "      <td>5</td>\n",
       "      <td>0</td>\n",
       "      <td>0</td>\n",
       "      <td>5</td>\n",
       "      <td>0</td>\n",
       "      <td>102</td>\n",
       "      <td>0</td>\n",
       "    </tr>\n",
       "  </tbody>\n",
       "</table>\n",
       "</div>"
      ],
      "text/plain": [
       "         contp  csmcu  ecfg  etymd  flbmk  flg_3dsmk  hcefg  insfg  iterm  \\\n",
       "txkey                                                                       \n",
       "516056       5      0     0      0      0          0      5      0      0   \n",
       "4376         5      0     0      2      0          0      0      0      0   \n",
       "483434       5      0     0      0      0          0      5      0      0   \n",
       "1407164      5     62     0      5      0          0      5      0      0   \n",
       "1051004      5     62     0      4      0          0      5      0      0   \n",
       "\n",
       "         locdt  ovrlt  stocn  stscd  \n",
       "txkey                                \n",
       "516056      32      0    102      0  \n",
       "4376         8      0    102      0  \n",
       "483434       5      0    102      0  \n",
       "1407164      4      0    102      0  \n",
       "1051004      5      0    102      0  "
      ]
     },
     "execution_count": 15,
     "metadata": {},
     "output_type": "execute_result"
    }
   ],
   "source": [
    "from sklearn.preprocessing import LabelEncoder\n",
    "les = {}\n",
    "for c in col_names_disc:\n",
    "    le = LabelEncoder()\n",
    "    df_disc.loc[:,c] = le.fit_transform(df_disc.loc[:,c])\n",
    "    les.update({c:le})\n",
    "df_disc.head()"
   ]
  },
  {
   "cell_type": "code",
   "execution_count": 16,
   "metadata": {},
   "outputs": [
    {
     "name": "stdout",
     "output_type": "stream",
     "text": [
      "feature cut point:  [  0   7  83  85  96  99 102 112 114 123 243 245 354 359]\n"
     ]
    },
    {
     "data": {
      "text/plain": [
       "((1943452, 359), numpy.ndarray)"
      ]
     },
     "execution_count": 16,
     "metadata": {},
     "output_type": "execute_result"
    }
   ],
   "source": [
    "from sklearn.preprocessing import OneHotEncoder\n",
    "ohe = OneHotEncoder(sparse=False)\n",
    "X_disc = ohe.fit_transform(df_disc)\n",
    "cut_point = ohe.feature_indices_\n",
    "print(\"feature cut point: \", cut_point)\n",
    "X_disc.shape, type(X_disc)"
   ]
  },
  {
   "cell_type": "code",
   "execution_count": 17,
   "metadata": {},
   "outputs": [],
   "source": [
    "new_col_names_disc = []\n",
    "for c in col_names_disc: \n",
    "    le = les[c]\n",
    "    new_col_names_disc += [ c+'_'+str(cl) for cl in le.classes_ ]\n",
    "assert len(new_col_names_disc) == X_disc.shape[1]"
   ]
  },
  {
   "cell_type": "code",
   "execution_count": 18,
   "metadata": {},
   "outputs": [
    {
     "data": {
      "text/html": [
       "<div>\n",
       "<style scoped>\n",
       "    .dataframe tbody tr th:only-of-type {\n",
       "        vertical-align: middle;\n",
       "    }\n",
       "\n",
       "    .dataframe tbody tr th {\n",
       "        vertical-align: top;\n",
       "    }\n",
       "\n",
       "    .dataframe thead th {\n",
       "        text-align: right;\n",
       "    }\n",
       "</style>\n",
       "<table border=\"1\" class=\"dataframe\">\n",
       "  <thead>\n",
       "    <tr style=\"text-align: right;\">\n",
       "      <th></th>\n",
       "      <th>contp_0</th>\n",
       "      <th>contp_1</th>\n",
       "      <th>contp_2</th>\n",
       "      <th>contp_3</th>\n",
       "      <th>contp_4</th>\n",
       "      <th>contp_5</th>\n",
       "      <th>contp_6</th>\n",
       "      <th>csmcu_0</th>\n",
       "      <th>csmcu_1</th>\n",
       "      <th>csmcu_2</th>\n",
       "      <th>...</th>\n",
       "      <th>stocn_104</th>\n",
       "      <th>stocn_105</th>\n",
       "      <th>stocn_106</th>\n",
       "      <th>stocn_107</th>\n",
       "      <th>stocn_108</th>\n",
       "      <th>stscd_0</th>\n",
       "      <th>stscd_1</th>\n",
       "      <th>stscd_2</th>\n",
       "      <th>stscd_3</th>\n",
       "      <th>stscd_4</th>\n",
       "    </tr>\n",
       "    <tr>\n",
       "      <th>txkey</th>\n",
       "      <th></th>\n",
       "      <th></th>\n",
       "      <th></th>\n",
       "      <th></th>\n",
       "      <th></th>\n",
       "      <th></th>\n",
       "      <th></th>\n",
       "      <th></th>\n",
       "      <th></th>\n",
       "      <th></th>\n",
       "      <th></th>\n",
       "      <th></th>\n",
       "      <th></th>\n",
       "      <th></th>\n",
       "      <th></th>\n",
       "      <th></th>\n",
       "      <th></th>\n",
       "      <th></th>\n",
       "      <th></th>\n",
       "      <th></th>\n",
       "      <th></th>\n",
       "    </tr>\n",
       "  </thead>\n",
       "  <tbody>\n",
       "    <tr>\n",
       "      <th>516056</th>\n",
       "      <td>0.0</td>\n",
       "      <td>0.0</td>\n",
       "      <td>0.0</td>\n",
       "      <td>0.0</td>\n",
       "      <td>0.0</td>\n",
       "      <td>1.0</td>\n",
       "      <td>0.0</td>\n",
       "      <td>1.0</td>\n",
       "      <td>0.0</td>\n",
       "      <td>0.0</td>\n",
       "      <td>...</td>\n",
       "      <td>0.0</td>\n",
       "      <td>0.0</td>\n",
       "      <td>0.0</td>\n",
       "      <td>0.0</td>\n",
       "      <td>0.0</td>\n",
       "      <td>1.0</td>\n",
       "      <td>0.0</td>\n",
       "      <td>0.0</td>\n",
       "      <td>0.0</td>\n",
       "      <td>0.0</td>\n",
       "    </tr>\n",
       "    <tr>\n",
       "      <th>4376</th>\n",
       "      <td>0.0</td>\n",
       "      <td>0.0</td>\n",
       "      <td>0.0</td>\n",
       "      <td>0.0</td>\n",
       "      <td>0.0</td>\n",
       "      <td>1.0</td>\n",
       "      <td>0.0</td>\n",
       "      <td>1.0</td>\n",
       "      <td>0.0</td>\n",
       "      <td>0.0</td>\n",
       "      <td>...</td>\n",
       "      <td>0.0</td>\n",
       "      <td>0.0</td>\n",
       "      <td>0.0</td>\n",
       "      <td>0.0</td>\n",
       "      <td>0.0</td>\n",
       "      <td>1.0</td>\n",
       "      <td>0.0</td>\n",
       "      <td>0.0</td>\n",
       "      <td>0.0</td>\n",
       "      <td>0.0</td>\n",
       "    </tr>\n",
       "    <tr>\n",
       "      <th>483434</th>\n",
       "      <td>0.0</td>\n",
       "      <td>0.0</td>\n",
       "      <td>0.0</td>\n",
       "      <td>0.0</td>\n",
       "      <td>0.0</td>\n",
       "      <td>1.0</td>\n",
       "      <td>0.0</td>\n",
       "      <td>1.0</td>\n",
       "      <td>0.0</td>\n",
       "      <td>0.0</td>\n",
       "      <td>...</td>\n",
       "      <td>0.0</td>\n",
       "      <td>0.0</td>\n",
       "      <td>0.0</td>\n",
       "      <td>0.0</td>\n",
       "      <td>0.0</td>\n",
       "      <td>1.0</td>\n",
       "      <td>0.0</td>\n",
       "      <td>0.0</td>\n",
       "      <td>0.0</td>\n",
       "      <td>0.0</td>\n",
       "    </tr>\n",
       "    <tr>\n",
       "      <th>1407164</th>\n",
       "      <td>0.0</td>\n",
       "      <td>0.0</td>\n",
       "      <td>0.0</td>\n",
       "      <td>0.0</td>\n",
       "      <td>0.0</td>\n",
       "      <td>1.0</td>\n",
       "      <td>0.0</td>\n",
       "      <td>0.0</td>\n",
       "      <td>0.0</td>\n",
       "      <td>0.0</td>\n",
       "      <td>...</td>\n",
       "      <td>0.0</td>\n",
       "      <td>0.0</td>\n",
       "      <td>0.0</td>\n",
       "      <td>0.0</td>\n",
       "      <td>0.0</td>\n",
       "      <td>1.0</td>\n",
       "      <td>0.0</td>\n",
       "      <td>0.0</td>\n",
       "      <td>0.0</td>\n",
       "      <td>0.0</td>\n",
       "    </tr>\n",
       "    <tr>\n",
       "      <th>1051004</th>\n",
       "      <td>0.0</td>\n",
       "      <td>0.0</td>\n",
       "      <td>0.0</td>\n",
       "      <td>0.0</td>\n",
       "      <td>0.0</td>\n",
       "      <td>1.0</td>\n",
       "      <td>0.0</td>\n",
       "      <td>0.0</td>\n",
       "      <td>0.0</td>\n",
       "      <td>0.0</td>\n",
       "      <td>...</td>\n",
       "      <td>0.0</td>\n",
       "      <td>0.0</td>\n",
       "      <td>0.0</td>\n",
       "      <td>0.0</td>\n",
       "      <td>0.0</td>\n",
       "      <td>1.0</td>\n",
       "      <td>0.0</td>\n",
       "      <td>0.0</td>\n",
       "      <td>0.0</td>\n",
       "      <td>0.0</td>\n",
       "    </tr>\n",
       "  </tbody>\n",
       "</table>\n",
       "<p>5 rows × 359 columns</p>\n",
       "</div>"
      ],
      "text/plain": [
       "         contp_0  contp_1  contp_2  contp_3  contp_4  contp_5  contp_6  \\\n",
       "txkey                                                                    \n",
       "516056       0.0      0.0      0.0      0.0      0.0      1.0      0.0   \n",
       "4376         0.0      0.0      0.0      0.0      0.0      1.0      0.0   \n",
       "483434       0.0      0.0      0.0      0.0      0.0      1.0      0.0   \n",
       "1407164      0.0      0.0      0.0      0.0      0.0      1.0      0.0   \n",
       "1051004      0.0      0.0      0.0      0.0      0.0      1.0      0.0   \n",
       "\n",
       "         csmcu_0  csmcu_1  csmcu_2   ...     stocn_104  stocn_105  stocn_106  \\\n",
       "txkey                                ...                                       \n",
       "516056       1.0      0.0      0.0   ...           0.0        0.0        0.0   \n",
       "4376         1.0      0.0      0.0   ...           0.0        0.0        0.0   \n",
       "483434       1.0      0.0      0.0   ...           0.0        0.0        0.0   \n",
       "1407164      0.0      0.0      0.0   ...           0.0        0.0        0.0   \n",
       "1051004      0.0      0.0      0.0   ...           0.0        0.0        0.0   \n",
       "\n",
       "         stocn_107  stocn_108  stscd_0  stscd_1  stscd_2  stscd_3  stscd_4  \n",
       "txkey                                                                       \n",
       "516056         0.0        0.0      1.0      0.0      0.0      0.0      0.0  \n",
       "4376           0.0        0.0      1.0      0.0      0.0      0.0      0.0  \n",
       "483434         0.0        0.0      1.0      0.0      0.0      0.0      0.0  \n",
       "1407164        0.0        0.0      1.0      0.0      0.0      0.0      0.0  \n",
       "1051004        0.0        0.0      1.0      0.0      0.0      0.0      0.0  \n",
       "\n",
       "[5 rows x 359 columns]"
      ]
     },
     "execution_count": 18,
     "metadata": {},
     "output_type": "execute_result"
    }
   ],
   "source": [
    "df_disc = pd.DataFrame(data=X_disc, index=df.index, columns=new_col_names_disc)\n",
    "df_disc.head()"
   ]
  },
  {
   "cell_type": "code",
   "execution_count": 19,
   "metadata": {},
   "outputs": [
    {
     "data": {
      "text/plain": [
       "Index(['contp_0', 'contp_1', 'contp_2', 'contp_3', 'contp_4', 'contp_5',\n",
       "       'contp_6', 'csmcu_0', 'csmcu_1', 'csmcu_2',\n",
       "       ...\n",
       "       'stocn_104', 'stocn_105', 'stocn_106', 'stocn_107', 'stocn_108',\n",
       "       'stscd_0', 'stscd_1', 'stscd_2', 'stscd_3', 'stscd_4'],\n",
       "      dtype='object', length=359)"
      ]
     },
     "execution_count": 19,
     "metadata": {},
     "output_type": "execute_result"
    }
   ],
   "source": [
    "df_disc.keys()"
   ]
  },
  {
   "cell_type": "code",
   "execution_count": 20,
   "metadata": {},
   "outputs": [
    {
     "data": {
      "text/plain": [
       "(1943452, 367)"
      ]
     },
     "execution_count": 20,
     "metadata": {},
     "output_type": "execute_result"
    }
   ],
   "source": [
    "df = pd.concat((df_cont, df_disc), 1)\n",
    "df.shape"
   ]
  },
  {
   "cell_type": "markdown",
   "metadata": {},
   "source": [
    "# Data Tree Encoding"
   ]
  },
  {
   "cell_type": "raw",
   "metadata": {},
   "source": [
    "from sklearn.ensemble import RandomTreesEmbedding\n",
    "rte = RandomTreesEmbedding(sparse_output=False)\n",
    "X_rte = rte.fit_transform(df)\n",
    "df_rte = pd.DataFrame(data=X_rte, index=df.index, columns=[ \"rte_\"+str(i) for i in range(X_rte.shape[1])])\n",
    "print(X_rte.shape)\n",
    "df_rte.head()"
   ]
  },
  {
   "cell_type": "raw",
   "metadata": {},
   "source": [
    "df = pd.concat((df, df_rte), 1)\n",
    "df.shape"
   ]
  },
  {
   "cell_type": "markdown",
   "metadata": {},
   "source": [
    "# Data Dimension Reduction"
   ]
  },
  {
   "cell_type": "code",
   "execution_count": 21,
   "metadata": {},
   "outputs": [
    {
     "name": "stdout",
     "output_type": "stream",
     "text": [
      "CPU times: user 50.4 s, sys: 38.5 s, total: 1min 28s\n",
      "Wall time: 1min 18s\n"
     ]
    }
   ],
   "source": [
    "%%time\n",
    "from sklearn.decomposition import PCA\n",
    "from sklearn.manifold import TSNE\n",
    "pca = PCA(n_components=2)\n",
    "X_red_pca = pca.fit_transform(df)\n",
    "X_red_pca.shape"
   ]
  },
  {
   "cell_type": "code",
   "execution_count": 22,
   "metadata": {},
   "outputs": [
    {
     "data": {
      "text/plain": [
       "(1943452, 369)"
      ]
     },
     "execution_count": 22,
     "metadata": {},
     "output_type": "execute_result"
    }
   ],
   "source": [
    "df_pca = pd.DataFrame(data=X_red_pca, index=df.index, columns=[ \"pca_\"+str(i) for i in range(X_red_pca.shape[1])])\n",
    "df = pd.concat((df, df_pca), 1)\n",
    "df.shape"
   ]
  },
  {
   "cell_type": "code",
   "execution_count": null,
   "metadata": {},
   "outputs": [],
   "source": [
    "df.to_csv('data/data_20190923.csv')"
   ]
  },
  {
   "cell_type": "markdown",
   "metadata": {},
   "source": [
    "# Data Split & Compare Train/Test"
   ]
  },
  {
   "cell_type": "code",
   "execution_count": 23,
   "metadata": {},
   "outputs": [],
   "source": [
    "import matplotlib.pyplot as plt\n",
    "%matplotlib inline"
   ]
  },
  {
   "cell_type": "code",
   "execution_count": 25,
   "metadata": {},
   "outputs": [],
   "source": [
    "n_train = len(y_train)"
   ]
  },
  {
   "cell_type": "code",
   "execution_count": 26,
   "metadata": {},
   "outputs": [
    {
     "data": {
      "text/plain": [
       "<matplotlib.legend.Legend at 0x7f17cba29c88>"
      ]
     },
     "execution_count": 26,
     "metadata": {},
     "output_type": "execute_result"
    },
    {
     "data": {
      "image/png": "[encoded data removed]",
      "text/plain": [
       "<Figure size 432x288 with 1 Axes>"
      ]
     },
     "metadata": {
      "needs_background": "light"
     },
     "output_type": "display_data"
    }
   ],
   "source": [
    "n_sample = 10000\n",
    "idx_train_sample = np.random.randint(0, n_train, size=n_sample)\n",
    "idx_test_sample = np.random.randint(n_train, len(df),  size=n_sample)\n",
    "X_train_red_sample = X_red_pca[idx_train_sample, :] \n",
    "X_test_red_sample = X_red_pca[idx_test_sample, :]\n",
    "plt.scatter( *X_train_red_sample.T , label='train', s=0.5)\n",
    "plt.scatter( *X_test_red_sample.T  , label='test', s=0.5)\n",
    "plt.legend()"
   ]
  },
  {
   "cell_type": "code",
   "execution_count": 27,
   "metadata": {},
   "outputs": [
    {
     "data": {
      "text/plain": [
       "<matplotlib.legend.Legend at 0x7f17cb94ff60>"
      ]
     },
     "execution_count": 27,
     "metadata": {},
     "output_type": "execute_result"
    },
    {
     "data": {
      "image/png": "[encoded data removed]",
      "text/plain": [
       "<Figure size 432x288 with 1 Axes>"
      ]
     },
     "metadata": {
      "needs_background": "light"
     },
     "output_type": "display_data"
    }
   ],
   "source": [
    "n_sample_y1 = 1000\n",
    "idx_train_y1 = np.random.choice(np.where(y_train==1)[0], size=n_sample_y1)\n",
    "X_train_red_y1_sample = X_red_pca[idx_train_y1, :]\n",
    "plt.scatter( *X_train_red_sample.T , label='train', s=0.5)\n",
    "plt.scatter( *X_train_red_y1_sample.T , label='y==1', s=0.5)\n",
    "plt.legend()"
   ]
  },
  {
   "cell_type": "code",
   "execution_count": 28,
   "metadata": {},
   "outputs": [
    {
     "data": {
      "text/plain": [
       "((1521787, 369), (421665, 369), (1521787,))"
      ]
     },
     "execution_count": 28,
     "metadata": {},
     "output_type": "execute_result"
    }
   ],
   "source": [
    "X_train, X_test = df.iloc[:n_train, :].values, df.iloc[n_train:, :].values\n",
    "key_train, key_test = np.array(df.index[:n_train]), np.array(df.index[n_train:])\n",
    "X_train.shape, X_test.shape, y_train.shape"
   ]
  },
  {
   "cell_type": "raw",
   "metadata": {},
   "source": [
    "X_train_red, X_test_red = X_red_pca[:n_train, :], X_red_pca[n_train:, :]\n",
    "X_train_red.shape, X_test_red.shape"
   ]
  },
  {
   "cell_type": "code",
   "execution_count": null,
   "metadata": {},
   "outputs": [],
   "source": [
    "from sklearn.model_selection import train_test_split\n",
    "X_train_, X_val, y_train_, y_val, key_train_, key_val =  \\\n",
    "train_test_split(X_train, y_train, key_train, test_size=0.3, random_state=42)\n",
    "X_train_.shape, y_train_.shape, X_val.shape, y_val.shape, key_train_.shape, key_val.shape"
   ]
  },
  {
   "cell_type": "raw",
   "metadata": {},
   "source": [
    "X_train_red_, X_val_red =  \\\n",
    "train_test_split(X_train_red, test_size=0.3, random_state=42)\n",
    "X_train_red_.shape, X_val_red.shape"
   ]
  },
  {
   "cell_type": "code",
   "execution_count": null,
   "metadata": {},
   "outputs": [],
   "source": [
    "np.save('data/X_train', X_train)\n",
    "np.save('data/X_test', X_test)\n",
    "np.save('data/y_train', y_train)\n",
    "np.save('data/X_train_', X_train_)\n",
    "np.save('data/X_val', X_val)\n",
    "np.save('data/y_train_', y_train_)\n",
    "np.save('data/y_val', y_val)"
   ]
  },
  {
   "cell_type": "code",
   "execution_count": null,
   "metadata": {},
   "outputs": [],
   "source": [
    "np.save('data/X_col_names', np.array(df.columns))"
   ]
  },
  {
   "cell_type": "code",
   "execution_count": null,
   "metadata": {},
   "outputs": [],
   "source": [
    "# txkey\n",
    "np.save('data/key_train', key_train) \n",
    "np.save('data/key_test', key_test) \n",
    "np.save('data/key_train_', key_train_) \n",
    "np.save('data/key_val', key_val) "
   ]
  },
  {
   "cell_type": "code",
   "execution_count": null,
   "metadata": {},
   "outputs": [],
   "source": []
  }
 ],
 "metadata": {
  "kernelspec": {
   "display_name": "Python 3",
   "language": "python",
   "name": "python3"
  },
  "language_info": {
   "codemirror_mode": {
    "name": "ipython",
    "version": 3
   },
   "file_extension": ".py",
   "mimetype": "text/x-python",
   "name": "python",
   "nbconvert_exporter": "python",
   "pygments_lexer": "ipython3",
   "version": "3.6.6"
  }
 },
 "nbformat": 4,
 "nbformat_minor": 2
}

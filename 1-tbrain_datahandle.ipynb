{
 "cells": [
  {
   "cell_type": "code",
   "execution_count": 1,
   "metadata": {},
   "outputs": [],
   "source": [
    "import pandas as pd\n",
    "import numpy as np"
   ]
  },
  {
   "cell_type": "code",
   "execution_count": 2,
   "metadata": {},
   "outputs": [
    {
     "name": "stdout",
     "output_type": "stream",
     "text": [
      "mkdir: cannot create directory ‘data’: File exists\n",
      "mkdir: cannot create directory ‘model’: File exists\n",
      "mkdir: cannot create directory ‘submit’: File exists\n"
     ]
    }
   ],
   "source": [
    "! mkdir data model submit"
   ]
  },
  {
   "cell_type": "markdown",
   "metadata": {},
   "source": [
    "# Load Data and Overview"
   ]
  },
  {
   "cell_type": "code",
   "execution_count": 3,
   "metadata": {},
   "outputs": [
    {
     "data": {
      "text/plain": [
       "(1521787, 22)"
      ]
     },
     "execution_count": 3,
     "metadata": {},
     "output_type": "execute_result"
    }
   ],
   "source": [
    "df = pd.read_csv('train.csv').set_index('txkey')\n",
    "df.shape"
   ]
  },
  {
   "cell_type": "code",
   "execution_count": 4,
   "metadata": {},
   "outputs": [],
   "source": [
    "y_train = df['fraud_ind']\n",
    "del df['fraud_ind']"
   ]
  },
  {
   "cell_type": "code",
   "execution_count": 5,
   "metadata": {},
   "outputs": [
    {
     "data": {
      "text/plain": [
       "(421665, 21)"
      ]
     },
     "execution_count": 5,
     "metadata": {},
     "output_type": "execute_result"
    }
   ],
   "source": [
    "df_test = pd.read_csv('test.csv').set_index('txkey')\n",
    "df_test.shape"
   ]
  },
  {
   "cell_type": "code",
   "execution_count": 6,
   "metadata": {},
   "outputs": [
    {
     "data": {
      "text/plain": [
       "(1943452, 21)"
      ]
     },
     "execution_count": 6,
     "metadata": {},
     "output_type": "execute_result"
    }
   ],
   "source": [
    "df = pd.concat((df, df_test), 0)\n",
    "df.shape"
   ]
  },
  {
   "cell_type": "code",
   "execution_count": 7,
   "metadata": {},
   "outputs": [],
   "source": [
    "del df['locdt'] #授權日期 "
   ]
  },
  {
   "cell_type": "code",
   "execution_count": 8,
   "metadata": {},
   "outputs": [],
   "source": [
    "time2val = lambda x: np.sin((x/12-1)*np.pi)\n",
    "def fn(x): \n",
    "    x_str = str(int(x)).zfill(6)\n",
    "    h, m, s = float(x_str[:2]), float(x_str[2:4]), float(x_str[4:])\n",
    "    v = h + m/60 + s/3600\n",
    "    return time2val(v)\n",
    "df['loctm']=  df['loctm'].apply(fn)# 授權時間"
   ]
  },
  {
   "cell_type": "raw",
   "metadata": {},
   "source": [
    "del df['cano'] #交易卡號 "
   ]
  },
  {
   "cell_type": "code",
   "execution_count": 9,
   "metadata": {},
   "outputs": [],
   "source": [
    "df['mchno'] =  (df['mchno']!=0).astype(int) #特店代號 "
   ]
  },
  {
   "cell_type": "code",
   "execution_count": 10,
   "metadata": {},
   "outputs": [],
   "source": [
    "df['ovrlt'] =  (df['ovrlt']==\"Y\").astype(int) # 超額註記碼  \n",
    "df['flbmk'] =  (df['flbmk']==\"Y\").astype(int) # Fallback註記 \n",
    "df['flg_3dsmk'] =  (df['flg_3dsmk']==\"Y\").astype(int) # 超額註記碼 \n",
    "df['insfg'] =  (df['insfg']==\"Y\").astype(int) # 分期交易註記 \n",
    "df['ecfg'] =  (df['ecfg']==\"Y\").astype(int) # 網路交易註記 "
   ]
  },
  {
   "cell_type": "code",
   "execution_count": 11,
   "metadata": {},
   "outputs": [
    {
     "data": {
      "text/plain": [
       "Index(['acqic', 'bacno', 'cano', 'conam', 'contp', 'csmcu', 'ecfg', 'etymd',\n",
       "       'flbmk', 'flg_3dsmk', 'hcefg', 'insfg', 'iterm', 'loctm', 'mcc',\n",
       "       'mchno', 'ovrlt', 'scity', 'stocn', 'stscd'],\n",
       "      dtype='object')"
      ]
     },
     "execution_count": 11,
     "metadata": {},
     "output_type": "execute_result"
    }
   ],
   "source": [
    "df.keys()"
   ]
  },
  {
   "cell_type": "code",
   "execution_count": 12,
   "metadata": {},
   "outputs": [
    {
     "name": "stdout",
     "output_type": "stream",
     "text": [
      "****************************************************************\n",
      "acqic: dtype=int64, n_na=0\n",
      "       max=6884, min=0, mean=6004.54, std=1505.74, diversity=0.35%\n",
      "acqic : cont\n",
      "****************************************************************\n",
      "bacno: dtype=int64, n_na=0\n",
      "       max=163886, min=0, mean=82087.41, std=47323.48, diversity=8.40%\n",
      "bacno : cont\n",
      "****************************************************************\n",
      "cano: dtype=int64, n_na=0\n",
      "       max=213575, min=0, mean=109045.28, std=61103.56, diversity=10.93%\n",
      "cano : cont\n",
      "****************************************************************\n",
      "conam: dtype=float64, n_na=0\n",
      "       max=7208.77, min=0.0, mean=651.62, std=403.22, diversity=4.44%\n",
      "conam : cont\n",
      "****************************************************************\n",
      "contp: uni=[5 3 6 2 4 0 1]\n",
      "contp : disc\n",
      "****************************************************************\n",
      "csmcu: uni=[ 0 62 74 61 13 67 60 26 49 10 71 56 20 38 22  4 47 54 75 32 66 29 28 14\n",
      " 50 30 31 45 24 40 35 59  3 48 63 52 41 23 17 16 73 51 53 44 18 12 15  5\n",
      " 70 21 39 27 42 11 72  6 25  7 43  2 19 37  1 64 57 36 68 55  9 46 34 69\n",
      "  8 33 65 58]\n",
      "csmcu : disc\n",
      "****************************************************************\n",
      "ecfg : cont\n",
      "****************************************************************\n",
      "etymd: uni=[ 0  2  5  4  8  1  9  6  3  7 10]\n",
      "etymd : disc\n",
      "****************************************************************\n",
      "flbmk : cont\n",
      "****************************************************************\n",
      "flg_3dsmk : cont\n",
      "****************************************************************\n",
      "hcefg: uni=[5 0 3 1 2 7 8 9 6 4]\n",
      "hcefg : disc\n",
      "****************************************************************\n",
      "insfg : cont\n",
      "****************************************************************\n",
      "iterm : cont\n",
      "****************************************************************\n",
      "loctm : cont\n",
      "****************************************************************\n",
      "mcc: dtype=int64, n_na=0\n",
      "       max=459, min=0, mean=297.91, std=78.41, diversity=0.02%\n",
      "mcc : cont\n",
      "****************************************************************\n",
      "mchno : cont\n",
      "****************************************************************\n",
      "ovrlt : cont\n",
      "****************************************************************\n",
      "scity: dtype=int64, n_na=0\n",
      "       max=6671, min=0, mean=4754.4, std=1982.35, diversity=0.34%\n",
      "scity : cont\n",
      "****************************************************************\n",
      "stocn: uni=[102  44  14  46  38  93 104  20  75  27  52  16  61  36  50   2  41  42\n",
      "  78  49  10   6  98  17  87  32  81  86  73  92  85  89  55   1  53 101\n",
      "  56  68  62  47   0  76  45  72  94  25  31   4  39  48 106  91  83  34\n",
      "  95  40  26   5  43  90  54 107  67  30  28  69  70  22  60  57  37   8\n",
      "  96  35  74  63  80  51   9 105  13  11  64  59  82  15  79  65  33  77\n",
      "   3  84  99  19   7  29  24  18 100  97  71  12  88  21  23 103 108  58\n",
      "  66]\n",
      "stocn : disc\n",
      "****************************************************************\n",
      "stscd: uni=[0 2 4 1 3]\n",
      "stscd : disc\n"
     ]
    }
   ],
   "source": [
    "# 欄位類別判定\n",
    "col_names_cont_ = ['loctm','mchno','iterm','ovrlt','flbmk','flg_3dsmk','insfg','ecfg'] # 數值型資料\n",
    "col_names_cont = [] # 數值型資料\n",
    "col_names_disc = [] # 類別型資料\n",
    "col_has_na = [] # 待補NA資料\n",
    "for c in df.keys():\n",
    "    print(\"*\"*64)\n",
    "    if c in col_names_cont_:\n",
    "        print(c, \": cont\")\n",
    "        continue\n",
    "    uni = df[c].unique()\n",
    "    n_na = pd.isna(df[c]).sum() # NA 數量\n",
    "    if n_na > 0:\n",
    "        col_has_na.append(c)       \n",
    "    if len(uni) < 200 :\n",
    "        print(f\"{c}: uni={uni}\")\n",
    "        if not (c in col_names_disc): \n",
    "            col_names_disc.append(c)\n",
    "            print(c, \": disc\")\n",
    "    else:\n",
    "        info = [ df[c].max(), df[c].min(), df[c].mean(), df[c].std()]\n",
    "        info = [ x.round(2) for x in info ]\n",
    "        offset = 1 if n_na else 0\n",
    "        diversity = (len(uni)-offset)/(len(df)-n_na)\n",
    "        print(f\"{c}: dtype={df[c].dtype}, n_na={n_na}\")\n",
    "        print(\"       max={}, min={}, mean={}, std={}, diversity={:.2f}%\".format(*info, diversity*100 ) )\n",
    "        if diversity == 1.0:\n",
    "            print(f\"       Delete col [{c}] due to diversity is 100% \")\n",
    "        else:\n",
    "            if not (c in col_names_cont): \n",
    "                col_names_cont.append(c)\n",
    "                print(c, \": cont\")"
   ]
  },
  {
   "cell_type": "code",
   "execution_count": 13,
   "metadata": {},
   "outputs": [
    {
     "data": {
      "text/plain": [
       "['acqic', 'bacno', 'cano', 'conam', 'mcc', 'scity']"
      ]
     },
     "execution_count": 13,
     "metadata": {},
     "output_type": "execute_result"
    }
   ],
   "source": [
    "col_names_cont"
   ]
  },
  {
   "cell_type": "code",
   "execution_count": 14,
   "metadata": {},
   "outputs": [
    {
     "data": {
      "text/plain": [
       "['contp', 'csmcu', 'etymd', 'hcefg', 'stocn', 'stscd']"
      ]
     },
     "execution_count": 14,
     "metadata": {},
     "output_type": "execute_result"
    }
   ],
   "source": [
    "col_names_disc"
   ]
  },
  {
   "cell_type": "markdown",
   "metadata": {},
   "source": [
    "# Data Preprocessing"
   ]
  },
  {
   "cell_type": "markdown",
   "metadata": {},
   "source": [
    "## 增加群組資訊"
   ]
  },
  {
   "cell_type": "code",
   "execution_count": 15,
   "metadata": {},
   "outputs": [
    {
     "name": "stdout",
     "output_type": "stream",
     "text": [
      "CPU times: user 8min 39s, sys: 4.52 s, total: 8min 43s\n",
      "Wall time: 8min 43s\n"
     ]
    }
   ],
   "source": [
    "%%time\n",
    "from scipy import stats\n",
    "q_cnames = ['bacno', 'cano' ] \n",
    "k_cnames = [ 'csmcu', #消費地幣別 \n",
    "            'contp', #交易類別 \n",
    "            'etymd', #交易型態 \n",
    "            'stocn', #消費地國別 \n",
    "            'scity', #消費城市\n",
    "            'hcefg', #支付形態 \n",
    "            'acqic' #收單行代碼 \n",
    "           ]\n",
    "col_names_new = []\n",
    "for q_cname in q_cnames:\n",
    "    for k_cname in k_cnames:\n",
    "        v_table = df[[k_cname, q_cname]].groupby(q_cname).agg(lambda x: stats.mode(x)[0][0])\n",
    "        s = df[q_cname].apply(lambda q: v_table.loc[q, k_cname])\n",
    "        new_cname = \"issame_\"+k_cname\n",
    "        df[new_cname] = (s == df[k_cname]).astype(int)\n",
    "        col_names_new.append(new_cname)\n",
    "    \n",
    "del df['acqic']; del df['bacno']; del df['cano']\n",
    "col_names_cont.remove('acqic'); col_names_cont.remove('bacno'); col_names_cont.remove('cano')"
   ]
  },
  {
   "cell_type": "code",
   "execution_count": 16,
   "metadata": {},
   "outputs": [
    {
     "data": {
      "text/plain": [
       "['issame_csmcu',\n",
       " 'issame_contp',\n",
       " 'issame_etymd',\n",
       " 'issame_stocn',\n",
       " 'issame_scity',\n",
       " 'issame_hcefg',\n",
       " 'issame_acqic',\n",
       " 'issame_csmcu',\n",
       " 'issame_contp',\n",
       " 'issame_etymd',\n",
       " 'issame_stocn',\n",
       " 'issame_scity',\n",
       " 'issame_hcefg',\n",
       " 'issame_acqic']"
      ]
     },
     "execution_count": 16,
     "metadata": {},
     "output_type": "execute_result"
    }
   ],
   "source": [
    "col_names_new"
   ]
  },
  {
   "cell_type": "code",
   "execution_count": 17,
   "metadata": {},
   "outputs": [],
   "source": [
    "df_new = df[col_names_new].copy()"
   ]
  },
  {
   "cell_type": "markdown",
   "metadata": {},
   "source": [
    "## 數值型"
   ]
  },
  {
   "cell_type": "code",
   "execution_count": 18,
   "metadata": {},
   "outputs": [],
   "source": [
    "col_names_cont += col_names_cont_"
   ]
  },
  {
   "cell_type": "code",
   "execution_count": 19,
   "metadata": {},
   "outputs": [
    {
     "data": {
      "text/html": [
       "<div>\n",
       "<style scoped>\n",
       "    .dataframe tbody tr th:only-of-type {\n",
       "        vertical-align: middle;\n",
       "    }\n",
       "\n",
       "    .dataframe tbody tr th {\n",
       "        vertical-align: top;\n",
       "    }\n",
       "\n",
       "    .dataframe thead th {\n",
       "        text-align: right;\n",
       "    }\n",
       "</style>\n",
       "<table border=\"1\" class=\"dataframe\">\n",
       "  <thead>\n",
       "    <tr style=\"text-align: right;\">\n",
       "      <th></th>\n",
       "      <th>conam</th>\n",
       "      <th>mcc</th>\n",
       "      <th>scity</th>\n",
       "      <th>loctm</th>\n",
       "      <th>mchno</th>\n",
       "      <th>iterm</th>\n",
       "      <th>ovrlt</th>\n",
       "      <th>flbmk</th>\n",
       "      <th>flg_3dsmk</th>\n",
       "      <th>insfg</th>\n",
       "      <th>ecfg</th>\n",
       "    </tr>\n",
       "    <tr>\n",
       "      <th>txkey</th>\n",
       "      <th></th>\n",
       "      <th></th>\n",
       "      <th></th>\n",
       "      <th></th>\n",
       "      <th></th>\n",
       "      <th></th>\n",
       "      <th></th>\n",
       "      <th></th>\n",
       "      <th></th>\n",
       "      <th></th>\n",
       "      <th></th>\n",
       "    </tr>\n",
       "  </thead>\n",
       "  <tbody>\n",
       "    <tr>\n",
       "      <th>516056</th>\n",
       "      <td>513.80</td>\n",
       "      <td>457</td>\n",
       "      <td>0</td>\n",
       "      <td>0.989568</td>\n",
       "      <td>1</td>\n",
       "      <td>0</td>\n",
       "      <td>0</td>\n",
       "      <td>0</td>\n",
       "      <td>0</td>\n",
       "      <td>0</td>\n",
       "      <td>0</td>\n",
       "    </tr>\n",
       "    <tr>\n",
       "      <th>4376</th>\n",
       "      <td>465.62</td>\n",
       "      <td>451</td>\n",
       "      <td>5817</td>\n",
       "      <td>-0.295569</td>\n",
       "      <td>0</td>\n",
       "      <td>0</td>\n",
       "      <td>0</td>\n",
       "      <td>0</td>\n",
       "      <td>0</td>\n",
       "      <td>0</td>\n",
       "      <td>0</td>\n",
       "    </tr>\n",
       "    <tr>\n",
       "      <th>483434</th>\n",
       "      <td>513.80</td>\n",
       "      <td>457</td>\n",
       "      <td>0</td>\n",
       "      <td>0.779793</td>\n",
       "      <td>1</td>\n",
       "      <td>0</td>\n",
       "      <td>0</td>\n",
       "      <td>0</td>\n",
       "      <td>0</td>\n",
       "      <td>0</td>\n",
       "      <td>0</td>\n",
       "    </tr>\n",
       "    <tr>\n",
       "      <th>1407164</th>\n",
       "      <td>1016.11</td>\n",
       "      <td>247</td>\n",
       "      <td>3281</td>\n",
       "      <td>0.991311</td>\n",
       "      <td>1</td>\n",
       "      <td>0</td>\n",
       "      <td>0</td>\n",
       "      <td>0</td>\n",
       "      <td>0</td>\n",
       "      <td>0</td>\n",
       "      <td>0</td>\n",
       "    </tr>\n",
       "    <tr>\n",
       "      <th>1051004</th>\n",
       "      <td>713.66</td>\n",
       "      <td>263</td>\n",
       "      <td>5817</td>\n",
       "      <td>0.995610</td>\n",
       "      <td>1</td>\n",
       "      <td>0</td>\n",
       "      <td>0</td>\n",
       "      <td>0</td>\n",
       "      <td>0</td>\n",
       "      <td>0</td>\n",
       "      <td>0</td>\n",
       "    </tr>\n",
       "  </tbody>\n",
       "</table>\n",
       "</div>"
      ],
      "text/plain": [
       "           conam  mcc  scity     loctm  mchno  iterm  ovrlt  flbmk  flg_3dsmk  \\\n",
       "txkey                                                                           \n",
       "516056    513.80  457      0  0.989568      1      0      0      0          0   \n",
       "4376      465.62  451   5817 -0.295569      0      0      0      0          0   \n",
       "483434    513.80  457      0  0.779793      1      0      0      0          0   \n",
       "1407164  1016.11  247   3281  0.991311      1      0      0      0          0   \n",
       "1051004   713.66  263   5817  0.995610      1      0      0      0          0   \n",
       "\n",
       "         insfg  ecfg  \n",
       "txkey                 \n",
       "516056       0     0  \n",
       "4376         0     0  \n",
       "483434       0     0  \n",
       "1407164      0     0  \n",
       "1051004      0     0  "
      ]
     },
     "execution_count": 19,
     "metadata": {},
     "output_type": "execute_result"
    }
   ],
   "source": [
    "df_cont = df[col_names_cont].copy()\n",
    "df_cont.head()"
   ]
  },
  {
   "cell_type": "code",
   "execution_count": 20,
   "metadata": {},
   "outputs": [
    {
     "data": {
      "text/plain": [
       "((1943452, 11), numpy.ndarray)"
      ]
     },
     "execution_count": 20,
     "metadata": {},
     "output_type": "execute_result"
    }
   ],
   "source": [
    "from sklearn.preprocessing import StandardScaler\n",
    "scaler = StandardScaler()\n",
    "X_cont = scaler.fit_transform(df_cont)\n",
    "X_cont.shape, type(X_cont)"
   ]
  },
  {
   "cell_type": "code",
   "execution_count": 21,
   "metadata": {},
   "outputs": [
    {
     "data": {
      "text/html": [
       "<div>\n",
       "<style scoped>\n",
       "    .dataframe tbody tr th:only-of-type {\n",
       "        vertical-align: middle;\n",
       "    }\n",
       "\n",
       "    .dataframe tbody tr th {\n",
       "        vertical-align: top;\n",
       "    }\n",
       "\n",
       "    .dataframe thead th {\n",
       "        text-align: right;\n",
       "    }\n",
       "</style>\n",
       "<table border=\"1\" class=\"dataframe\">\n",
       "  <thead>\n",
       "    <tr style=\"text-align: right;\">\n",
       "      <th></th>\n",
       "      <th>conam</th>\n",
       "      <th>mcc</th>\n",
       "      <th>scity</th>\n",
       "      <th>loctm</th>\n",
       "      <th>mchno</th>\n",
       "      <th>iterm</th>\n",
       "      <th>ovrlt</th>\n",
       "      <th>flbmk</th>\n",
       "      <th>flg_3dsmk</th>\n",
       "      <th>insfg</th>\n",
       "      <th>ecfg</th>\n",
       "    </tr>\n",
       "    <tr>\n",
       "      <th>txkey</th>\n",
       "      <th></th>\n",
       "      <th></th>\n",
       "      <th></th>\n",
       "      <th></th>\n",
       "      <th></th>\n",
       "      <th></th>\n",
       "      <th></th>\n",
       "      <th></th>\n",
       "      <th></th>\n",
       "      <th></th>\n",
       "      <th></th>\n",
       "    </tr>\n",
       "  </thead>\n",
       "  <tbody>\n",
       "    <tr>\n",
       "      <th>516056</th>\n",
       "      <td>-0.341794</td>\n",
       "      <td>2.028863</td>\n",
       "      <td>-2.398364</td>\n",
       "      <td>1.076462</td>\n",
       "      <td>0.184114</td>\n",
       "      <td>-0.133894</td>\n",
       "      <td>-0.114425</td>\n",
       "      <td>-0.057458</td>\n",
       "      <td>-0.213247</td>\n",
       "      <td>-0.166861</td>\n",
       "      <td>-0.587517</td>\n",
       "    </tr>\n",
       "    <tr>\n",
       "      <th>4376</th>\n",
       "      <td>-0.461282</td>\n",
       "      <td>1.952344</td>\n",
       "      <td>0.536031</td>\n",
       "      <td>-1.027989</td>\n",
       "      <td>-5.431423</td>\n",
       "      <td>-0.133894</td>\n",
       "      <td>-0.114425</td>\n",
       "      <td>-0.057458</td>\n",
       "      <td>-0.213247</td>\n",
       "      <td>-0.166861</td>\n",
       "      <td>-0.587517</td>\n",
       "    </tr>\n",
       "    <tr>\n",
       "      <th>483434</th>\n",
       "      <td>-0.341794</td>\n",
       "      <td>2.028863</td>\n",
       "      <td>-2.398364</td>\n",
       "      <td>0.732950</td>\n",
       "      <td>0.184114</td>\n",
       "      <td>-0.133894</td>\n",
       "      <td>-0.114425</td>\n",
       "      <td>-0.057458</td>\n",
       "      <td>-0.213247</td>\n",
       "      <td>-0.166861</td>\n",
       "      <td>-0.587517</td>\n",
       "    </tr>\n",
       "    <tr>\n",
       "      <th>1407164</th>\n",
       "      <td>0.903959</td>\n",
       "      <td>-0.649316</td>\n",
       "      <td>-0.743258</td>\n",
       "      <td>1.079317</td>\n",
       "      <td>0.184114</td>\n",
       "      <td>-0.133894</td>\n",
       "      <td>-0.114425</td>\n",
       "      <td>-0.057458</td>\n",
       "      <td>-0.213247</td>\n",
       "      <td>-0.166861</td>\n",
       "      <td>-0.587517</td>\n",
       "    </tr>\n",
       "    <tr>\n",
       "      <th>1051004</th>\n",
       "      <td>0.153869</td>\n",
       "      <td>-0.445264</td>\n",
       "      <td>0.536031</td>\n",
       "      <td>1.086356</td>\n",
       "      <td>0.184114</td>\n",
       "      <td>-0.133894</td>\n",
       "      <td>-0.114425</td>\n",
       "      <td>-0.057458</td>\n",
       "      <td>-0.213247</td>\n",
       "      <td>-0.166861</td>\n",
       "      <td>-0.587517</td>\n",
       "    </tr>\n",
       "  </tbody>\n",
       "</table>\n",
       "</div>"
      ],
      "text/plain": [
       "            conam       mcc     scity     loctm     mchno     iterm     ovrlt  \\\n",
       "txkey                                                                           \n",
       "516056  -0.341794  2.028863 -2.398364  1.076462  0.184114 -0.133894 -0.114425   \n",
       "4376    -0.461282  1.952344  0.536031 -1.027989 -5.431423 -0.133894 -0.114425   \n",
       "483434  -0.341794  2.028863 -2.398364  0.732950  0.184114 -0.133894 -0.114425   \n",
       "1407164  0.903959 -0.649316 -0.743258  1.079317  0.184114 -0.133894 -0.114425   \n",
       "1051004  0.153869 -0.445264  0.536031  1.086356  0.184114 -0.133894 -0.114425   \n",
       "\n",
       "            flbmk  flg_3dsmk     insfg      ecfg  \n",
       "txkey                                             \n",
       "516056  -0.057458  -0.213247 -0.166861 -0.587517  \n",
       "4376    -0.057458  -0.213247 -0.166861 -0.587517  \n",
       "483434  -0.057458  -0.213247 -0.166861 -0.587517  \n",
       "1407164 -0.057458  -0.213247 -0.166861 -0.587517  \n",
       "1051004 -0.057458  -0.213247 -0.166861 -0.587517  "
      ]
     },
     "execution_count": 21,
     "metadata": {},
     "output_type": "execute_result"
    }
   ],
   "source": [
    "df_cont = pd.DataFrame(data=X_cont, index=df.index, columns=col_names_cont)\n",
    "df_cont.head()"
   ]
  },
  {
   "cell_type": "markdown",
   "metadata": {},
   "source": [
    "## 類別型"
   ]
  },
  {
   "cell_type": "code",
   "execution_count": 22,
   "metadata": {},
   "outputs": [
    {
     "data": {
      "text/html": [
       "<div>\n",
       "<style scoped>\n",
       "    .dataframe tbody tr th:only-of-type {\n",
       "        vertical-align: middle;\n",
       "    }\n",
       "\n",
       "    .dataframe tbody tr th {\n",
       "        vertical-align: top;\n",
       "    }\n",
       "\n",
       "    .dataframe thead th {\n",
       "        text-align: right;\n",
       "    }\n",
       "</style>\n",
       "<table border=\"1\" class=\"dataframe\">\n",
       "  <thead>\n",
       "    <tr style=\"text-align: right;\">\n",
       "      <th></th>\n",
       "      <th>contp</th>\n",
       "      <th>csmcu</th>\n",
       "      <th>etymd</th>\n",
       "      <th>hcefg</th>\n",
       "      <th>stocn</th>\n",
       "      <th>stscd</th>\n",
       "    </tr>\n",
       "    <tr>\n",
       "      <th>txkey</th>\n",
       "      <th></th>\n",
       "      <th></th>\n",
       "      <th></th>\n",
       "      <th></th>\n",
       "      <th></th>\n",
       "      <th></th>\n",
       "    </tr>\n",
       "  </thead>\n",
       "  <tbody>\n",
       "    <tr>\n",
       "      <th>516056</th>\n",
       "      <td>5</td>\n",
       "      <td>0</td>\n",
       "      <td>0</td>\n",
       "      <td>5</td>\n",
       "      <td>102</td>\n",
       "      <td>0</td>\n",
       "    </tr>\n",
       "    <tr>\n",
       "      <th>4376</th>\n",
       "      <td>5</td>\n",
       "      <td>0</td>\n",
       "      <td>2</td>\n",
       "      <td>0</td>\n",
       "      <td>102</td>\n",
       "      <td>0</td>\n",
       "    </tr>\n",
       "    <tr>\n",
       "      <th>483434</th>\n",
       "      <td>5</td>\n",
       "      <td>0</td>\n",
       "      <td>0</td>\n",
       "      <td>5</td>\n",
       "      <td>102</td>\n",
       "      <td>0</td>\n",
       "    </tr>\n",
       "    <tr>\n",
       "      <th>1407164</th>\n",
       "      <td>5</td>\n",
       "      <td>62</td>\n",
       "      <td>5</td>\n",
       "      <td>5</td>\n",
       "      <td>102</td>\n",
       "      <td>0</td>\n",
       "    </tr>\n",
       "    <tr>\n",
       "      <th>1051004</th>\n",
       "      <td>5</td>\n",
       "      <td>62</td>\n",
       "      <td>4</td>\n",
       "      <td>5</td>\n",
       "      <td>102</td>\n",
       "      <td>0</td>\n",
       "    </tr>\n",
       "  </tbody>\n",
       "</table>\n",
       "</div>"
      ],
      "text/plain": [
       "         contp  csmcu  etymd  hcefg  stocn  stscd\n",
       "txkey                                            \n",
       "516056       5      0      0      5    102      0\n",
       "4376         5      0      2      0    102      0\n",
       "483434       5      0      0      5    102      0\n",
       "1407164      5     62      5      5    102      0\n",
       "1051004      5     62      4      5    102      0"
      ]
     },
     "execution_count": 22,
     "metadata": {},
     "output_type": "execute_result"
    }
   ],
   "source": [
    "df_disc = df[col_names_disc].copy()\n",
    "df_disc.head()"
   ]
  },
  {
   "cell_type": "code",
   "execution_count": 23,
   "metadata": {},
   "outputs": [
    {
     "data": {
      "text/plain": [
       "(1943452, 6)"
      ]
     },
     "execution_count": 23,
     "metadata": {},
     "output_type": "execute_result"
    }
   ],
   "source": [
    "df_disc.shape"
   ]
  },
  {
   "cell_type": "code",
   "execution_count": 24,
   "metadata": {},
   "outputs": [
    {
     "data": {
      "text/html": [
       "<div>\n",
       "<style scoped>\n",
       "    .dataframe tbody tr th:only-of-type {\n",
       "        vertical-align: middle;\n",
       "    }\n",
       "\n",
       "    .dataframe tbody tr th {\n",
       "        vertical-align: top;\n",
       "    }\n",
       "\n",
       "    .dataframe thead th {\n",
       "        text-align: right;\n",
       "    }\n",
       "</style>\n",
       "<table border=\"1\" class=\"dataframe\">\n",
       "  <thead>\n",
       "    <tr style=\"text-align: right;\">\n",
       "      <th></th>\n",
       "      <th>contp</th>\n",
       "      <th>csmcu</th>\n",
       "      <th>etymd</th>\n",
       "      <th>hcefg</th>\n",
       "      <th>stocn</th>\n",
       "      <th>stscd</th>\n",
       "    </tr>\n",
       "    <tr>\n",
       "      <th>txkey</th>\n",
       "      <th></th>\n",
       "      <th></th>\n",
       "      <th></th>\n",
       "      <th></th>\n",
       "      <th></th>\n",
       "      <th></th>\n",
       "    </tr>\n",
       "  </thead>\n",
       "  <tbody>\n",
       "    <tr>\n",
       "      <th>516056</th>\n",
       "      <td>5</td>\n",
       "      <td>0</td>\n",
       "      <td>0</td>\n",
       "      <td>5</td>\n",
       "      <td>102</td>\n",
       "      <td>0</td>\n",
       "    </tr>\n",
       "    <tr>\n",
       "      <th>4376</th>\n",
       "      <td>5</td>\n",
       "      <td>0</td>\n",
       "      <td>2</td>\n",
       "      <td>0</td>\n",
       "      <td>102</td>\n",
       "      <td>0</td>\n",
       "    </tr>\n",
       "    <tr>\n",
       "      <th>483434</th>\n",
       "      <td>5</td>\n",
       "      <td>0</td>\n",
       "      <td>0</td>\n",
       "      <td>5</td>\n",
       "      <td>102</td>\n",
       "      <td>0</td>\n",
       "    </tr>\n",
       "    <tr>\n",
       "      <th>1407164</th>\n",
       "      <td>5</td>\n",
       "      <td>62</td>\n",
       "      <td>5</td>\n",
       "      <td>5</td>\n",
       "      <td>102</td>\n",
       "      <td>0</td>\n",
       "    </tr>\n",
       "    <tr>\n",
       "      <th>1051004</th>\n",
       "      <td>5</td>\n",
       "      <td>62</td>\n",
       "      <td>4</td>\n",
       "      <td>5</td>\n",
       "      <td>102</td>\n",
       "      <td>0</td>\n",
       "    </tr>\n",
       "  </tbody>\n",
       "</table>\n",
       "</div>"
      ],
      "text/plain": [
       "         contp  csmcu  etymd  hcefg  stocn  stscd\n",
       "txkey                                            \n",
       "516056       5      0      0      5    102      0\n",
       "4376         5      0      2      0    102      0\n",
       "483434       5      0      0      5    102      0\n",
       "1407164      5     62      5      5    102      0\n",
       "1051004      5     62      4      5    102      0"
      ]
     },
     "execution_count": 24,
     "metadata": {},
     "output_type": "execute_result"
    }
   ],
   "source": [
    "from sklearn.preprocessing import LabelEncoder\n",
    "les = {}\n",
    "for c in col_names_disc:\n",
    "    le = LabelEncoder()\n",
    "    df_disc.loc[:,c] = le.fit_transform(df_disc.loc[:,c])\n",
    "    les.update({c:le})\n",
    "df_disc.head()"
   ]
  },
  {
   "cell_type": "code",
   "execution_count": 25,
   "metadata": {},
   "outputs": [
    {
     "name": "stdout",
     "output_type": "stream",
     "text": [
      "feature cut point:  [  0   7  83  94 104 213 218]\n"
     ]
    },
    {
     "data": {
      "text/plain": [
       "((1943452, 218), numpy.ndarray)"
      ]
     },
     "execution_count": 25,
     "metadata": {},
     "output_type": "execute_result"
    }
   ],
   "source": [
    "from sklearn.preprocessing import OneHotEncoder\n",
    "ohe = OneHotEncoder(sparse=False)\n",
    "X_disc = ohe.fit_transform(df_disc)\n",
    "cut_point = ohe.feature_indices_\n",
    "print(\"feature cut point: \", cut_point)\n",
    "X_disc.shape, type(X_disc)"
   ]
  },
  {
   "cell_type": "code",
   "execution_count": 26,
   "metadata": {},
   "outputs": [],
   "source": [
    "new_col_names_disc = []\n",
    "for c in col_names_disc: \n",
    "    le = les[c]\n",
    "    new_col_names_disc += [ c+'_'+str(cl) for cl in le.classes_ ]\n",
    "assert len(new_col_names_disc) == X_disc.shape[1]"
   ]
  },
  {
   "cell_type": "code",
   "execution_count": 27,
   "metadata": {},
   "outputs": [
    {
     "data": {
      "text/html": [
       "<div>\n",
       "<style scoped>\n",
       "    .dataframe tbody tr th:only-of-type {\n",
       "        vertical-align: middle;\n",
       "    }\n",
       "\n",
       "    .dataframe tbody tr th {\n",
       "        vertical-align: top;\n",
       "    }\n",
       "\n",
       "    .dataframe thead th {\n",
       "        text-align: right;\n",
       "    }\n",
       "</style>\n",
       "<table border=\"1\" class=\"dataframe\">\n",
       "  <thead>\n",
       "    <tr style=\"text-align: right;\">\n",
       "      <th></th>\n",
       "      <th>contp_0</th>\n",
       "      <th>contp_1</th>\n",
       "      <th>contp_2</th>\n",
       "      <th>contp_3</th>\n",
       "      <th>contp_4</th>\n",
       "      <th>contp_5</th>\n",
       "      <th>contp_6</th>\n",
       "      <th>csmcu_0</th>\n",
       "      <th>csmcu_1</th>\n",
       "      <th>csmcu_2</th>\n",
       "      <th>...</th>\n",
       "      <th>stocn_104</th>\n",
       "      <th>stocn_105</th>\n",
       "      <th>stocn_106</th>\n",
       "      <th>stocn_107</th>\n",
       "      <th>stocn_108</th>\n",
       "      <th>stscd_0</th>\n",
       "      <th>stscd_1</th>\n",
       "      <th>stscd_2</th>\n",
       "      <th>stscd_3</th>\n",
       "      <th>stscd_4</th>\n",
       "    </tr>\n",
       "    <tr>\n",
       "      <th>txkey</th>\n",
       "      <th></th>\n",
       "      <th></th>\n",
       "      <th></th>\n",
       "      <th></th>\n",
       "      <th></th>\n",
       "      <th></th>\n",
       "      <th></th>\n",
       "      <th></th>\n",
       "      <th></th>\n",
       "      <th></th>\n",
       "      <th></th>\n",
       "      <th></th>\n",
       "      <th></th>\n",
       "      <th></th>\n",
       "      <th></th>\n",
       "      <th></th>\n",
       "      <th></th>\n",
       "      <th></th>\n",
       "      <th></th>\n",
       "      <th></th>\n",
       "      <th></th>\n",
       "    </tr>\n",
       "  </thead>\n",
       "  <tbody>\n",
       "    <tr>\n",
       "      <th>516056</th>\n",
       "      <td>0.0</td>\n",
       "      <td>0.0</td>\n",
       "      <td>0.0</td>\n",
       "      <td>0.0</td>\n",
       "      <td>0.0</td>\n",
       "      <td>1.0</td>\n",
       "      <td>0.0</td>\n",
       "      <td>1.0</td>\n",
       "      <td>0.0</td>\n",
       "      <td>0.0</td>\n",
       "      <td>...</td>\n",
       "      <td>0.0</td>\n",
       "      <td>0.0</td>\n",
       "      <td>0.0</td>\n",
       "      <td>0.0</td>\n",
       "      <td>0.0</td>\n",
       "      <td>1.0</td>\n",
       "      <td>0.0</td>\n",
       "      <td>0.0</td>\n",
       "      <td>0.0</td>\n",
       "      <td>0.0</td>\n",
       "    </tr>\n",
       "    <tr>\n",
       "      <th>4376</th>\n",
       "      <td>0.0</td>\n",
       "      <td>0.0</td>\n",
       "      <td>0.0</td>\n",
       "      <td>0.0</td>\n",
       "      <td>0.0</td>\n",
       "      <td>1.0</td>\n",
       "      <td>0.0</td>\n",
       "      <td>1.0</td>\n",
       "      <td>0.0</td>\n",
       "      <td>0.0</td>\n",
       "      <td>...</td>\n",
       "      <td>0.0</td>\n",
       "      <td>0.0</td>\n",
       "      <td>0.0</td>\n",
       "      <td>0.0</td>\n",
       "      <td>0.0</td>\n",
       "      <td>1.0</td>\n",
       "      <td>0.0</td>\n",
       "      <td>0.0</td>\n",
       "      <td>0.0</td>\n",
       "      <td>0.0</td>\n",
       "    </tr>\n",
       "    <tr>\n",
       "      <th>483434</th>\n",
       "      <td>0.0</td>\n",
       "      <td>0.0</td>\n",
       "      <td>0.0</td>\n",
       "      <td>0.0</td>\n",
       "      <td>0.0</td>\n",
       "      <td>1.0</td>\n",
       "      <td>0.0</td>\n",
       "      <td>1.0</td>\n",
       "      <td>0.0</td>\n",
       "      <td>0.0</td>\n",
       "      <td>...</td>\n",
       "      <td>0.0</td>\n",
       "      <td>0.0</td>\n",
       "      <td>0.0</td>\n",
       "      <td>0.0</td>\n",
       "      <td>0.0</td>\n",
       "      <td>1.0</td>\n",
       "      <td>0.0</td>\n",
       "      <td>0.0</td>\n",
       "      <td>0.0</td>\n",
       "      <td>0.0</td>\n",
       "    </tr>\n",
       "    <tr>\n",
       "      <th>1407164</th>\n",
       "      <td>0.0</td>\n",
       "      <td>0.0</td>\n",
       "      <td>0.0</td>\n",
       "      <td>0.0</td>\n",
       "      <td>0.0</td>\n",
       "      <td>1.0</td>\n",
       "      <td>0.0</td>\n",
       "      <td>0.0</td>\n",
       "      <td>0.0</td>\n",
       "      <td>0.0</td>\n",
       "      <td>...</td>\n",
       "      <td>0.0</td>\n",
       "      <td>0.0</td>\n",
       "      <td>0.0</td>\n",
       "      <td>0.0</td>\n",
       "      <td>0.0</td>\n",
       "      <td>1.0</td>\n",
       "      <td>0.0</td>\n",
       "      <td>0.0</td>\n",
       "      <td>0.0</td>\n",
       "      <td>0.0</td>\n",
       "    </tr>\n",
       "    <tr>\n",
       "      <th>1051004</th>\n",
       "      <td>0.0</td>\n",
       "      <td>0.0</td>\n",
       "      <td>0.0</td>\n",
       "      <td>0.0</td>\n",
       "      <td>0.0</td>\n",
       "      <td>1.0</td>\n",
       "      <td>0.0</td>\n",
       "      <td>0.0</td>\n",
       "      <td>0.0</td>\n",
       "      <td>0.0</td>\n",
       "      <td>...</td>\n",
       "      <td>0.0</td>\n",
       "      <td>0.0</td>\n",
       "      <td>0.0</td>\n",
       "      <td>0.0</td>\n",
       "      <td>0.0</td>\n",
       "      <td>1.0</td>\n",
       "      <td>0.0</td>\n",
       "      <td>0.0</td>\n",
       "      <td>0.0</td>\n",
       "      <td>0.0</td>\n",
       "    </tr>\n",
       "  </tbody>\n",
       "</table>\n",
       "<p>5 rows × 218 columns</p>\n",
       "</div>"
      ],
      "text/plain": [
       "         contp_0  contp_1  contp_2  contp_3  contp_4  contp_5  contp_6  \\\n",
       "txkey                                                                    \n",
       "516056       0.0      0.0      0.0      0.0      0.0      1.0      0.0   \n",
       "4376         0.0      0.0      0.0      0.0      0.0      1.0      0.0   \n",
       "483434       0.0      0.0      0.0      0.0      0.0      1.0      0.0   \n",
       "1407164      0.0      0.0      0.0      0.0      0.0      1.0      0.0   \n",
       "1051004      0.0      0.0      0.0      0.0      0.0      1.0      0.0   \n",
       "\n",
       "         csmcu_0  csmcu_1  csmcu_2   ...     stocn_104  stocn_105  stocn_106  \\\n",
       "txkey                                ...                                       \n",
       "516056       1.0      0.0      0.0   ...           0.0        0.0        0.0   \n",
       "4376         1.0      0.0      0.0   ...           0.0        0.0        0.0   \n",
       "483434       1.0      0.0      0.0   ...           0.0        0.0        0.0   \n",
       "1407164      0.0      0.0      0.0   ...           0.0        0.0        0.0   \n",
       "1051004      0.0      0.0      0.0   ...           0.0        0.0        0.0   \n",
       "\n",
       "         stocn_107  stocn_108  stscd_0  stscd_1  stscd_2  stscd_3  stscd_4  \n",
       "txkey                                                                       \n",
       "516056         0.0        0.0      1.0      0.0      0.0      0.0      0.0  \n",
       "4376           0.0        0.0      1.0      0.0      0.0      0.0      0.0  \n",
       "483434         0.0        0.0      1.0      0.0      0.0      0.0      0.0  \n",
       "1407164        0.0        0.0      1.0      0.0      0.0      0.0      0.0  \n",
       "1051004        0.0        0.0      1.0      0.0      0.0      0.0      0.0  \n",
       "\n",
       "[5 rows x 218 columns]"
      ]
     },
     "execution_count": 27,
     "metadata": {},
     "output_type": "execute_result"
    }
   ],
   "source": [
    "df_disc = pd.DataFrame(data=X_disc, index=df.index, columns=new_col_names_disc)\n",
    "df_disc.head()"
   ]
  },
  {
   "cell_type": "code",
   "execution_count": 28,
   "metadata": {},
   "outputs": [
    {
     "data": {
      "text/plain": [
       "Index(['contp_0', 'contp_1', 'contp_2', 'contp_3', 'contp_4', 'contp_5',\n",
       "       'contp_6', 'csmcu_0', 'csmcu_1', 'csmcu_2',\n",
       "       ...\n",
       "       'stocn_104', 'stocn_105', 'stocn_106', 'stocn_107', 'stocn_108',\n",
       "       'stscd_0', 'stscd_1', 'stscd_2', 'stscd_3', 'stscd_4'],\n",
       "      dtype='object', length=218)"
      ]
     },
     "execution_count": 28,
     "metadata": {},
     "output_type": "execute_result"
    }
   ],
   "source": [
    "df_disc.keys()"
   ]
  },
  {
   "cell_type": "markdown",
   "metadata": {},
   "source": [
    "## 合併"
   ]
  },
  {
   "cell_type": "code",
   "execution_count": 29,
   "metadata": {},
   "outputs": [
    {
     "data": {
      "text/plain": [
       "(1943452, 243)"
      ]
     },
     "execution_count": 29,
     "metadata": {},
     "output_type": "execute_result"
    }
   ],
   "source": [
    "df = pd.concat((df_cont, df_disc, df_new ), 1)\n",
    "del df_cont\n",
    "del df_disc\n",
    "del df_new\n",
    "df.shape"
   ]
  },
  {
   "cell_type": "markdown",
   "metadata": {},
   "source": [
    "# Data Tree Encoding"
   ]
  },
  {
   "cell_type": "raw",
   "metadata": {},
   "source": [
    "from sklearn.ensemble import RandomTreesEmbedding\n",
    "rte = RandomTreesEmbedding(sparse_output=False)\n",
    "X_rte = rte.fit_transform(df)\n",
    "df_rte = pd.DataFrame(data=X_rte, index=df.index, columns=[ \"rte_\"+str(i) for i in range(X_rte.shape[1])])\n",
    "print(X_rte.shape)\n",
    "df_rte.head()"
   ]
  },
  {
   "cell_type": "raw",
   "metadata": {},
   "source": [
    "df = pd.concat((df, df_rte), 1)\n",
    "df.shape"
   ]
  },
  {
   "cell_type": "markdown",
   "metadata": {},
   "source": [
    "# Save data"
   ]
  },
  {
   "cell_type": "code",
   "execution_count": 30,
   "metadata": {},
   "outputs": [],
   "source": [
    "n_train = len(y_train)\n",
    "y_train = np.array(y_train)"
   ]
  },
  {
   "cell_type": "code",
   "execution_count": 31,
   "metadata": {},
   "outputs": [
    {
     "data": {
      "text/plain": [
       "((1521787, 243), (421665, 243), (1521787,))"
      ]
     },
     "execution_count": 31,
     "metadata": {},
     "output_type": "execute_result"
    }
   ],
   "source": [
    "X_train, X_test = df.iloc[:n_train, :].values, df.iloc[n_train:, :].values\n",
    "key_train, key_test = np.array(df.index[:n_train]), np.array(df.index[n_train:])\n",
    "X_train.shape, X_test.shape, y_train.shape"
   ]
  },
  {
   "cell_type": "code",
   "execution_count": 32,
   "metadata": {},
   "outputs": [],
   "source": [
    "np.save('data/X_train', X_train)\n",
    "np.save('data/X_test', X_test)\n",
    "np.save('data/y_train', y_train)\n",
    "np.save('data/X_col_names', np.array(df.columns))"
   ]
  },
  {
   "cell_type": "code",
   "execution_count": 33,
   "metadata": {},
   "outputs": [],
   "source": [
    "# txkey\n",
    "np.save('data/key_train', key_train) \n",
    "np.save('data/key_test', key_test) "
   ]
  },
  {
   "cell_type": "raw",
   "metadata": {},
   "source": [
    "df.to_csv('data/data.csv')"
   ]
  },
  {
   "cell_type": "markdown",
   "metadata": {},
   "source": [
    "# Delete y==1 Neighbors"
   ]
  },
  {
   "cell_type": "markdown",
   "metadata": {},
   "source": [
    "## Train PCA"
   ]
  },
  {
   "cell_type": "code",
   "execution_count": 34,
   "metadata": {},
   "outputs": [
    {
     "name": "stdout",
     "output_type": "stream",
     "text": [
      "CPU times: user 1.56 s, sys: 2.49 s, total: 4.05 s\n",
      "Wall time: 4.05 s\n"
     ]
    }
   ],
   "source": [
    "%%time\n",
    "# 資料 normalize\n",
    "X_train_  = X_train / np.linalg.norm( X_train, axis=1, keepdims=True)\n",
    "X_test_  = X_test / np.linalg.norm(X_test, axis=1, keepdims=True)"
   ]
  },
  {
   "cell_type": "code",
   "execution_count": 35,
   "metadata": {},
   "outputs": [
    {
     "name": "stdout",
     "output_type": "stream",
     "text": [
      "(1521787, 5) (421665, 5)\n",
      "CPU times: user 36.6 s, sys: 23.5 s, total: 1min\n",
      "Wall time: 46.5 s\n"
     ]
    }
   ],
   "source": [
    "%%time\n",
    "from sklearn.decomposition import PCA\n",
    "pca = PCA(5)\n",
    "X_pca = pca.fit_transform( np.concatenate((X_train_,X_test_),0) )\n",
    "np.save(\"data/X_pca5\", X_pca)\n",
    "X_train_pca, X_test_pca = X_pca[:n_train, :], X_pca[n_train:, :]\n",
    "print( X_train_pca.shape, X_test_pca.shape )"
   ]
  },
  {
   "cell_type": "code",
   "execution_count": 36,
   "metadata": {},
   "outputs": [
    {
     "name": "stdout",
     "output_type": "stream",
     "text": [
      "原本 y==1 的數量: (20355,)\n",
      "原本 y==1 的位置: [     70     349    1133 ... 1521718 1521751 1521766]\n"
     ]
    }
   ],
   "source": [
    "key_train_y1 = key_train[y_train>0]\n",
    "print( \"原本 y==1 的數量:\", key_train_y1.shape ) # 原本 y==1 的數量\n",
    "print( \"原本 y==1 的位置:\" , np.where(y_train )[0]) # 原本 y==1 的位置"
   ]
  },
  {
   "cell_type": "markdown",
   "metadata": {},
   "source": [
    "## Build Search NN Tree"
   ]
  },
  {
   "cell_type": "code",
   "execution_count": 37,
   "metadata": {},
   "outputs": [],
   "source": [
    "k = 5 # 設定:搜尋鄰居數"
   ]
  },
  {
   "cell_type": "code",
   "execution_count": 38,
   "metadata": {},
   "outputs": [
    {
     "name": "stdout",
     "output_type": "stream",
     "text": [
      "(1521787, 5)\n",
      "CPU times: user 24.3 s, sys: 159 ms, total: 24.5 s\n",
      "Wall time: 24.5 s\n"
     ]
    }
   ],
   "source": [
    "%%time\n",
    "from sklearn.neighbors import KDTree #建立搜尋樹\n",
    "tree = KDTree(X_train_pca, leaf_size=10)   \n",
    "distance, ind = tree.query(X_train_pca, k=k)                \n",
    "print(ind.shape)  # (1521787, k) indices of 3 closest neighbors"
   ]
  },
  {
   "cell_type": "code",
   "execution_count": 39,
   "metadata": {},
   "outputs": [
    {
     "name": "stdout",
     "output_type": "stream",
     "text": [
      "鄰居有 y==1 的數量: 53376\n",
      "要刪掉的index為, 原本y==0, 但鄰居有 y==1 的數量:  33021\n"
     ]
    }
   ],
   "source": [
    "y_train_new = np.sum( y_train[ind], 1) \n",
    "print( \"鄰居有 y==1 的數量:\", np.sum( y_train_new>0 ) ) # 鄰居有 y==1 的數量\n",
    "ind_to_be_del = np.logical_and( y_train==0, y_train_new>0 ) # 紀錄要刪掉的index\n",
    "print( \"要刪掉的index為, 原本y==0, 但鄰居有 y==1 的數量: \", ind_to_be_del.sum() ) # 原本y==0, 但鄰居有 y==1 的數量"
   ]
  },
  {
   "cell_type": "code",
   "execution_count": 40,
   "metadata": {},
   "outputs": [],
   "source": [
    "np.save(\"data/ind_to_be_del\",ind_to_be_del)"
   ]
  },
  {
   "cell_type": "markdown",
   "metadata": {},
   "source": [
    "# Get Sample weight"
   ]
  },
  {
   "cell_type": "markdown",
   "metadata": {},
   "source": [
    "## Re-Train PCA with Test"
   ]
  },
  {
   "cell_type": "code",
   "execution_count": 41,
   "metadata": {},
   "outputs": [
    {
     "name": "stdout",
     "output_type": "stream",
     "text": [
      "CPU times: user 8.25 s, sys: 5.82 s, total: 14.1 s\n",
      "Wall time: 10.2 s\n"
     ]
    }
   ],
   "source": [
    "%%time\n",
    "from sklearn.decomposition import PCA\n",
    "pca = PCA(5)\n",
    "X_pca_test = pca.fit_transform( X_test_ )"
   ]
  },
  {
   "cell_type": "code",
   "execution_count": 42,
   "metadata": {},
   "outputs": [
    {
     "name": "stdout",
     "output_type": "stream",
     "text": [
      "CPU times: user 1.85 s, sys: 1.24 s, total: 3.09 s\n",
      "Wall time: 3.09 s\n"
     ]
    }
   ],
   "source": [
    "%%time\n",
    "X_pca_train = pca.transform( X_train_ )"
   ]
  },
  {
   "cell_type": "code",
   "execution_count": 43,
   "metadata": {},
   "outputs": [],
   "source": [
    "np.save(\"data/X_pca5_train_byTest\", X_pca_train)\n",
    "np.save(\"data/X_pca5_test_byTest\", X_pca_test)"
   ]
  },
  {
   "cell_type": "code",
   "execution_count": 44,
   "metadata": {},
   "outputs": [
    {
     "data": {
      "text/plain": [
       "array([[ 0.48099684, -0.36072041,  0.1215331 , -0.11239425, -0.20731387],\n",
       "       [ 0.4891532 , -0.35281456,  0.09903807, -0.1196086 , -0.20807677],\n",
       "       [ 0.44471283, -0.38910039,  0.21580922, -0.0779264 , -0.19938505],\n",
       "       [ 0.44480564, -0.3890408 ,  0.21557916, -0.07801912, -0.19941402],\n",
       "       [ 0.4809123 , -0.3607992 ,  0.12176357, -0.11231837, -0.20730385]])"
      ]
     },
     "execution_count": 44,
     "metadata": {},
     "output_type": "execute_result"
    }
   ],
   "source": [
    "X_pca_test[0:5]"
   ]
  },
  {
   "cell_type": "markdown",
   "metadata": {},
   "source": [
    "## Find X_test Neighbors"
   ]
  },
  {
   "cell_type": "code",
   "execution_count": 45,
   "metadata": {},
   "outputs": [],
   "source": [
    "k = 10 # 設定:搜尋鄰居數"
   ]
  },
  {
   "cell_type": "code",
   "execution_count": 46,
   "metadata": {},
   "outputs": [
    {
     "name": "stdout",
     "output_type": "stream",
     "text": [
      "(1521787, 10)\n",
      "CPU times: user 24.4 s, sys: 252 ms, total: 24.6 s\n",
      "Wall time: 24.6 s\n"
     ]
    }
   ],
   "source": [
    "%%time\n",
    "from sklearn.neighbors import KDTree #建立搜尋樹\n",
    "tree = KDTree(X_pca_test, leaf_size=10)   \n",
    "distance, ind = tree.query(X_pca_train, k=k)                \n",
    "print(distance.shape)  # (1521787, k) indices of 3 closest neighbors"
   ]
  },
  {
   "cell_type": "code",
   "execution_count": 47,
   "metadata": {},
   "outputs": [
    {
     "data": {
      "text/plain": [
       "array([[1.15731285e-05, 1.67958490e-05, 1.96172733e-05, 2.86168577e-05,\n",
       "        3.14642492e-05, 3.14642492e-05, 3.71637784e-05, 3.93387836e-05,\n",
       "        5.42985278e-05, 6.28856757e-05],\n",
       "       [2.16970413e-02, 2.20837352e-02, 2.31202028e-02, 2.32524815e-02,\n",
       "        2.33246054e-02, 2.34567811e-02, 2.35048285e-02, 2.35768829e-02,\n",
       "        2.35768829e-02, 2.36129027e-02],\n",
       "       [7.80727526e-07, 1.27236836e-05, 1.27236836e-05, 1.30814699e-05,\n",
       "        6.42107969e-05, 1.16154316e-04, 1.41939756e-04, 1.80020128e-04,\n",
       "        1.80627737e-04, 2.18600907e-04],\n",
       "       [5.53016239e-03, 1.40491381e-02, 1.50324284e-02, 1.52318860e-02,\n",
       "        1.72769380e-02, 1.74969056e-02, 1.83946505e-02, 1.94781149e-02,\n",
       "        1.98372340e-02, 1.99291204e-02],\n",
       "       [4.66439852e-04, 2.01507260e-03, 2.04588592e-03, 3.20599273e-03,\n",
       "        6.29108082e-03, 7.08110840e-03, 7.25627581e-03, 7.72822133e-03,\n",
       "        8.18831140e-03, 9.49623959e-03]])"
      ]
     },
     "execution_count": 47,
     "metadata": {},
     "output_type": "execute_result"
    }
   ],
   "source": [
    "distance[0:5]"
   ]
  },
  {
   "cell_type": "code",
   "execution_count": 48,
   "metadata": {},
   "outputs": [
    {
     "data": {
      "text/plain": [
       "array([3.33218372e-05, 2.31206344e-02, 9.40863206e-05, 1.62256578e-02,\n",
       "       5.37746285e-03])"
      ]
     },
     "execution_count": 48,
     "metadata": {},
     "output_type": "execute_result"
    }
   ],
   "source": [
    "# train與test距離越近, sample_weight就越高\n",
    "distance_mean = np.mean(distance, 1)\n",
    "distance_mean[:5]"
   ]
  },
  {
   "cell_type": "code",
   "execution_count": 49,
   "metadata": {},
   "outputs": [
    {
     "data": {
      "text/plain": [
       "array([8.22670902e-07, 5.70817060e-04, 2.32286346e-06, ...,\n",
       "       9.91645610e-05, 1.94114699e-04, 9.72874154e-04])"
      ]
     },
     "execution_count": 49,
     "metadata": {},
     "output_type": "execute_result"
    }
   ],
   "source": [
    "sample_weight  = distance_mean / np.linalg.norm( distance_mean )\n",
    "sample_weight"
   ]
  },
  {
   "cell_type": "code",
   "execution_count": 50,
   "metadata": {},
   "outputs": [],
   "source": [
    "np.save(\"data/sample_weight\",sample_weight)"
   ]
  },
  {
   "cell_type": "code",
   "execution_count": null,
   "metadata": {},
   "outputs": [],
   "source": []
  },
  {
   "cell_type": "code",
   "execution_count": null,
   "metadata": {},
   "outputs": [],
   "source": []
  }
 ],
 "metadata": {
  "kernelspec": {
   "display_name": "Python 3",
   "language": "python",
   "name": "python3"
  },
  "language_info": {
   "codemirror_mode": {
    "name": "ipython",
    "version": 3
   },
   "file_extension": ".py",
   "mimetype": "text/x-python",
   "name": "python",
   "nbconvert_exporter": "python",
   "pygments_lexer": "ipython3",
   "version": "3.6.6"
  }
 },
 "nbformat": 4,
 "nbformat_minor": 2
}
